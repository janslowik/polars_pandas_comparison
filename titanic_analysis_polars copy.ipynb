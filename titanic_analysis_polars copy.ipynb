{
 "cells": [
  {
   "cell_type": "code",
   "execution_count": null,
   "id": "8fa704cf",
   "metadata": {},
   "outputs": [],
   "source": [
    "import pandas as pd\n",
    "\n",
    "# Wczytanie danych\n",
    "df = pd.read_csv(\"titanic.csv\")\n",
    "df.head()"
   ]
  },
  {
   "cell_type": "code",
   "execution_count": null,
   "id": "1e5840ca",
   "metadata": {},
   "outputs": [],
   "source": [
    "df.info()"
   ]
  },
  {
   "cell_type": "code",
   "execution_count": null,
   "id": "ec87f123",
   "metadata": {},
   "outputs": [],
   "source": [
    "df.describe(include='all')"
   ]
  },
  {
   "cell_type": "code",
   "execution_count": null,
   "id": "07110656",
   "metadata": {},
   "outputs": [],
   "source": [
    "# Filtrowanie\n",
    "\n",
    "# Pasażerowie powyżej 30 roku życia\n",
    "df[df['Age'] > 30]"
   ]
  },
  {
   "cell_type": "code",
   "execution_count": null,
   "id": "63b067fb",
   "metadata": {},
   "outputs": [],
   "source": [
    "# Kobiety z klasy 1, które przeżyły\n",
    "df[(df['Sex'] == 'female') & (df['Pclass'] == 1) & (df['Survived'] == 1)]"
   ]
  },
  {
   "cell_type": "code",
   "execution_count": null,
   "id": "bbbd8990",
   "metadata": {},
   "outputs": [],
   "source": [
    "# Dzieci w wieku poniżej 12 lat z klasy 3\n",
    "df[(df['Age'] < 12) & (df['Pclass'] == 3)]"
   ]
  },
  {
   "cell_type": "code",
   "execution_count": null,
   "id": "f1f0b882",
   "metadata": {},
   "outputs": [],
   "source": [
    "# Agregacje\n",
    "\n",
    "# Przeżywalność wg płci\n",
    "df.groupby('Sex')['Survived'].mean()"
   ]
  },
  {
   "cell_type": "code",
   "execution_count": null,
   "id": "98b11ad8",
   "metadata": {},
   "outputs": [],
   "source": [
    "# Średni wiek pasażerów wg klasy\n",
    "df.groupby('Pclass')['Age'].mean()"
   ]
  },
  {
   "cell_type": "code",
   "execution_count": null,
   "id": "bee54990",
   "metadata": {},
   "outputs": [],
   "source": [
    "# Liczba pasażerów wg klasy i płci\n",
    "df.groupby(['Pclass', 'Sex'])['PassengerId'].count()"
   ]
  },
  {
   "cell_type": "code",
   "execution_count": null,
   "id": "c11e4c47",
   "metadata": {},
   "outputs": [],
   "source": [
    "# Dodanie nazw portów\n",
    "ports = pd.DataFrame({\n",
    "    'Embarked': ['C', 'Q', 'S'],\n",
    "    'Port_Name': ['Cherbourg', 'Queenstown', 'Southampton']\n",
    "})\n",
    "\n",
    "df_merged = df.merge(ports, on='Embarked', how='left')\n",
    "df_merged[['Embarked', 'Port_Name']].drop_duplicates()"
   ]
  },
  {
   "cell_type": "code",
   "execution_count": null,
   "id": "bef93e86",
   "metadata": {},
   "outputs": [],
   "source": [
    "# Liczba pasażerów wg portu\n",
    "df_merged['Port_Name'].value_counts()"
   ]
  },
  {
   "cell_type": "markdown",
   "id": "e424a062",
   "metadata": {},
   "source": [
    "## 📊 Wizualizacja: Przeżywalność według klasy i płci"
   ]
  },
  {
   "cell_type": "code",
   "execution_count": null,
   "id": "13feae24",
   "metadata": {},
   "outputs": [],
   "source": [
    "import seaborn as sns\n",
    "import matplotlib.pyplot as plt\n",
    "\n",
    "# Wykres słupkowy: przeżywalność wg klasy i płci\n",
    "plt.figure(figsize=(8, 5))\n",
    "sns.barplot(data=df, x='Pclass', y='Survived', hue='Sex')\n",
    "plt.title('Przeżywalność według klasy i płci')\n",
    "plt.ylabel('Prawdopodobieństwo przeżycia')\n",
    "plt.xlabel('Klasa')\n",
    "plt.tight_layout()\n",
    "plt.show()"
   ]
  }
 ],
 "metadata": {},
 "nbformat": 4,
 "nbformat_minor": 5
}
