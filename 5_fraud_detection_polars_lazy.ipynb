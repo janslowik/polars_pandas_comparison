{
 "cells": [
  {
   "cell_type": "code",
   "execution_count": 1,
   "metadata": {},
   "outputs": [],
   "source": [
    "import polars as pl"
   ]
  },
  {
   "cell_type": "code",
   "execution_count": 2,
   "metadata": {},
   "outputs": [],
   "source": [
    "# data_path = './data/data_1mb.csv'\n",
    "# data_path = './data/data_1gb.csv'\n",
    "# data_path = './data/data_10gb.csv'\n",
    "data_path = './data/data_30gb.csv'"
   ]
  },
  {
   "cell_type": "code",
   "execution_count": 3,
   "metadata": {},
   "outputs": [],
   "source": [
    "# # eager\n",
    "# df = pl.read_csv(data_path)\n",
    "\n",
    "# # lazy v1\n",
    "# df = pl.read_csv(data_path).lazy()\n",
    "\n",
    "# # lazy v2\n",
    "df = pl.scan_csv(data_path)\n"
   ]
  },
  {
   "cell_type": "code",
   "execution_count": 5,
   "metadata": {},
   "outputs": [
    {
     "data": {
      "text/html": [
       "<div><style>\n",
       ".dataframe > thead > tr,\n",
       ".dataframe > tbody > tr {\n",
       "  text-align: right;\n",
       "  white-space: pre-wrap;\n",
       "}\n",
       "</style>\n",
       "<small>shape: (1, 1)</small><table border=\"1\" class=\"dataframe\"><thead><tr><th>len</th></tr><tr><td>u32</td></tr></thead><tbody><tr><td>306783378</td></tr></tbody></table></div>"
      ],
      "text/plain": [
       "shape: (1, 1)\n",
       "┌───────────┐\n",
       "│ len       │\n",
       "│ ---       │\n",
       "│ u32       │\n",
       "╞═══════════╡\n",
       "│ 306783378 │\n",
       "└───────────┘"
      ]
     },
     "execution_count": 5,
     "metadata": {},
     "output_type": "execute_result"
    }
   ],
   "source": [
    "df.select(pl.len()).collect()"
   ]
  },
  {
   "cell_type": "code",
   "execution_count": 4,
   "metadata": {},
   "outputs": [
    {
     "data": {
      "text/html": [
       "<div><style>\n",
       ".dataframe > thead > tr,\n",
       ".dataframe > tbody > tr {\n",
       "  text-align: right;\n",
       "  white-space: pre-wrap;\n",
       "}\n",
       "</style>\n",
       "<small>shape: (5, 8)</small><table border=\"1\" class=\"dataframe\"><thead><tr><th>user_id</th><th>timestamp</th><th>amount</th><th>currency</th><th>card_number</th><th>merchant</th><th>country</th><th>is_fraud</th></tr><tr><td>i64</td><td>str</td><td>f64</td><td>str</td><td>i64</td><td>str</td><td>str</td><td>bool</td></tr></thead><tbody><tr><td>482</td><td>&quot;2025-03-05T13:54:23.522760&quot;</td><td>1276.79</td><td>&quot;USD&quot;</td><td>3523765999822067</td><td>&quot;Sutton, Kramer and Lynn&quot;</td><td>&quot;Cook Islands&quot;</td><td>false</td></tr><tr><td>883</td><td>&quot;2025-01-20T17:44:58.084908&quot;</td><td>2881.2</td><td>&quot;USD&quot;</td><td>180047624145713</td><td>&quot;Gibson, Mckinney and Ho&quot;</td><td>&quot;Israel&quot;</td><td>false</td></tr><tr><td>309</td><td>&quot;2025-04-22T05:47:00.645063&quot;</td><td>3362.25</td><td>&quot;USD&quot;</td><td>6519802591149083</td><td>&quot;Gill PLC&quot;</td><td>&quot;Equatorial Guinea&quot;</td><td>false</td></tr><tr><td>204</td><td>&quot;2025-04-10T02:39:40.481595&quot;</td><td>4867.05</td><td>&quot;USD&quot;</td><td>4151089725014858</td><td>&quot;Munoz PLC&quot;</td><td>&quot;United States of America&quot;</td><td>false</td></tr><tr><td>353</td><td>&quot;2025-05-29T06:44:12.728093&quot;</td><td>3054.17</td><td>&quot;USD&quot;</td><td>2705313974522311</td><td>&quot;Lyons-Harris&quot;</td><td>&quot;Pitcairn Islands&quot;</td><td>false</td></tr></tbody></table></div>"
      ],
      "text/plain": [
       "shape: (5, 8)\n",
       "┌─────────┬──────────────┬─────────┬──────────┬─────────────┬─────────────┬─────────────┬──────────┐\n",
       "│ user_id ┆ timestamp    ┆ amount  ┆ currency ┆ card_number ┆ merchant    ┆ country     ┆ is_fraud │\n",
       "│ ---     ┆ ---          ┆ ---     ┆ ---      ┆ ---         ┆ ---         ┆ ---         ┆ ---      │\n",
       "│ i64     ┆ str          ┆ f64     ┆ str      ┆ i64         ┆ str         ┆ str         ┆ bool     │\n",
       "╞═════════╪══════════════╪═════════╪══════════╪═════════════╪═════════════╪═════════════╪══════════╡\n",
       "│ 482     ┆ 2025-03-05T1 ┆ 1276.79 ┆ USD      ┆ 35237659998 ┆ Sutton,     ┆ Cook        ┆ false    │\n",
       "│         ┆ 3:54:23.5227 ┆         ┆          ┆ 22067       ┆ Kramer and  ┆ Islands     ┆          │\n",
       "│         ┆ 60           ┆         ┆          ┆             ┆ Lynn        ┆             ┆          │\n",
       "│ 883     ┆ 2025-01-20T1 ┆ 2881.2  ┆ USD      ┆ 18004762414 ┆ Gibson,     ┆ Israel      ┆ false    │\n",
       "│         ┆ 7:44:58.0849 ┆         ┆          ┆ 5713        ┆ Mckinney    ┆             ┆          │\n",
       "│         ┆ 08           ┆         ┆          ┆             ┆ and Ho      ┆             ┆          │\n",
       "│ 309     ┆ 2025-04-22T0 ┆ 3362.25 ┆ USD      ┆ 65198025911 ┆ Gill PLC    ┆ Equatorial  ┆ false    │\n",
       "│         ┆ 5:47:00.6450 ┆         ┆          ┆ 49083       ┆             ┆ Guinea      ┆          │\n",
       "│         ┆ 63           ┆         ┆          ┆             ┆             ┆             ┆          │\n",
       "│ 204     ┆ 2025-04-10T0 ┆ 4867.05 ┆ USD      ┆ 41510897250 ┆ Munoz PLC   ┆ United      ┆ false    │\n",
       "│         ┆ 2:39:40.4815 ┆         ┆          ┆ 14858       ┆             ┆ States of   ┆          │\n",
       "│         ┆ 95           ┆         ┆          ┆             ┆             ┆ America     ┆          │\n",
       "│ 353     ┆ 2025-05-29T0 ┆ 3054.17 ┆ USD      ┆ 27053139745 ┆ Lyons-Harri ┆ Pitcairn    ┆ false    │\n",
       "│         ┆ 6:44:12.7280 ┆         ┆          ┆ 22311       ┆ s           ┆ Islands     ┆          │\n",
       "│         ┆ 93           ┆         ┆          ┆             ┆             ┆             ┆          │\n",
       "└─────────┴──────────────┴─────────┴──────────┴─────────────┴─────────────┴─────────────┴──────────┘"
      ]
     },
     "execution_count": 4,
     "metadata": {},
     "output_type": "execute_result"
    }
   ],
   "source": [
    "# # eager\n",
    "# df.head()\n",
    "\n",
    "# lazy\n",
    "df.collect().head()"
   ]
  },
  {
   "cell_type": "code",
   "execution_count": null,
   "metadata": {},
   "outputs": [],
   "source": []
  },
  {
   "cell_type": "code",
   "execution_count": 5,
   "metadata": {},
   "outputs": [
    {
     "data": {
      "text/html": [
       "<div><style>\n",
       ".dataframe > thead > tr,\n",
       ".dataframe > tbody > tr {\n",
       "  text-align: right;\n",
       "  white-space: pre-wrap;\n",
       "}\n",
       "</style>\n",
       "<small>shape: (9, 9)</small><table border=\"1\" class=\"dataframe\"><thead><tr><th>statistic</th><th>user_id</th><th>timestamp</th><th>amount</th><th>currency</th><th>card_number</th><th>merchant</th><th>country</th><th>is_fraud</th></tr><tr><td>str</td><td>f64</td><td>str</td><td>f64</td><td>str</td><td>f64</td><td>str</td><td>str</td><td>f64</td></tr></thead><tbody><tr><td>&quot;count&quot;</td><td>1.1671106e7</td><td>&quot;11671106&quot;</td><td>1.1671106e7</td><td>&quot;11671106&quot;</td><td>1.1671106e7</td><td>&quot;11671106&quot;</td><td>&quot;11671106&quot;</td><td>1.1671106e7</td></tr><tr><td>&quot;null_count&quot;</td><td>0.0</td><td>&quot;0&quot;</td><td>0.0</td><td>&quot;0&quot;</td><td>0.0</td><td>&quot;0&quot;</td><td>&quot;0&quot;</td><td>0.0</td></tr><tr><td>&quot;mean&quot;</td><td>500.480852</td><td>null</td><td>2502.808857</td><td>null</td><td>3.7677e17</td><td>null</td><td>null</td><td>0.010009</td></tr><tr><td>&quot;std&quot;</td><td>288.728402</td><td>null</td><td>1441.977786</td><td>null</td><td>1.2453e18</td><td>null</td><td>null</td><td>null</td></tr><tr><td>&quot;min&quot;</td><td>1.0</td><td>&quot;2025-01-01T00:00:01.761384&quot;</td><td>5.0</td><td>&quot;USD&quot;</td><td>6.0400e10</td><td>&quot;Abbott Group&quot;</td><td>&quot;Afghanistan&quot;</td><td>0.0</td></tr><tr><td>&quot;25%&quot;</td><td>250.0</td><td>null</td><td>1253.97</td><td>null</td><td>3.8999e13</td><td>null</td><td>null</td><td>null</td></tr><tr><td>&quot;50%&quot;</td><td>501.0</td><td>null</td><td>2502.89</td><td>null</td><td>3.5125e15</td><td>null</td><td>null</td><td>null</td></tr><tr><td>&quot;75%&quot;</td><td>750.0</td><td>null</td><td>3751.89</td><td>null</td><td>4.6252e15</td><td>null</td><td>null</td><td>null</td></tr><tr><td>&quot;max&quot;</td><td>1000.0</td><td>&quot;2025-06-06T10:09:47.144802&quot;</td><td>5000.0</td><td>&quot;USD&quot;</td><td>5.0000e18</td><td>&quot;Zuniga-Zimmerman&quot;</td><td>&quot;Zimbabwe&quot;</td><td>1.0</td></tr></tbody></table></div>"
      ],
      "text/plain": [
       "shape: (9, 9)\n",
       "┌───────────┬───────────┬───────────┬───────────┬───┬───────────┬───────────┬───────────┬──────────┐\n",
       "│ statistic ┆ user_id   ┆ timestamp ┆ amount    ┆ … ┆ card_numb ┆ merchant  ┆ country   ┆ is_fraud │\n",
       "│ ---       ┆ ---       ┆ ---       ┆ ---       ┆   ┆ er        ┆ ---       ┆ ---       ┆ ---      │\n",
       "│ str       ┆ f64       ┆ str       ┆ f64       ┆   ┆ ---       ┆ str       ┆ str       ┆ f64      │\n",
       "│           ┆           ┆           ┆           ┆   ┆ f64       ┆           ┆           ┆          │\n",
       "╞═══════════╪═══════════╪═══════════╪═══════════╪═══╪═══════════╪═══════════╪═══════════╪══════════╡\n",
       "│ count     ┆ 1.1671106 ┆ 11671106  ┆ 1.1671106 ┆ … ┆ 1.1671106 ┆ 11671106  ┆ 11671106  ┆ 1.167110 │\n",
       "│           ┆ e7        ┆           ┆ e7        ┆   ┆ e7        ┆           ┆           ┆ 6e7      │\n",
       "│ null_coun ┆ 0.0       ┆ 0         ┆ 0.0       ┆ … ┆ 0.0       ┆ 0         ┆ 0         ┆ 0.0      │\n",
       "│ t         ┆           ┆           ┆           ┆   ┆           ┆           ┆           ┆          │\n",
       "│ mean      ┆ 500.48085 ┆ null      ┆ 2502.8088 ┆ … ┆ 3.7677e17 ┆ null      ┆ null      ┆ 0.010009 │\n",
       "│           ┆ 2         ┆           ┆ 57        ┆   ┆           ┆           ┆           ┆          │\n",
       "│ std       ┆ 288.72840 ┆ null      ┆ 1441.9777 ┆ … ┆ 1.2453e18 ┆ null      ┆ null      ┆ null     │\n",
       "│           ┆ 2         ┆           ┆ 86        ┆   ┆           ┆           ┆           ┆          │\n",
       "│ min       ┆ 1.0       ┆ 2025-01-0 ┆ 5.0       ┆ … ┆ 6.0400e10 ┆ Abbott    ┆ Afghanist ┆ 0.0      │\n",
       "│           ┆           ┆ 1T00:00:0 ┆           ┆   ┆           ┆ Group     ┆ an        ┆          │\n",
       "│           ┆           ┆ 1.761384  ┆           ┆   ┆           ┆           ┆           ┆          │\n",
       "│ 25%       ┆ 250.0     ┆ null      ┆ 1253.97   ┆ … ┆ 3.8999e13 ┆ null      ┆ null      ┆ null     │\n",
       "│ 50%       ┆ 501.0     ┆ null      ┆ 2502.89   ┆ … ┆ 3.5125e15 ┆ null      ┆ null      ┆ null     │\n",
       "│ 75%       ┆ 750.0     ┆ null      ┆ 3751.89   ┆ … ┆ 4.6252e15 ┆ null      ┆ null      ┆ null     │\n",
       "│ max       ┆ 1000.0    ┆ 2025-06-0 ┆ 5000.0    ┆ … ┆ 5.0000e18 ┆ Zuniga-Zi ┆ Zimbabwe  ┆ 1.0      │\n",
       "│           ┆           ┆ 6T10:09:4 ┆           ┆   ┆           ┆ mmerman   ┆           ┆          │\n",
       "│           ┆           ┆ 7.144802  ┆           ┆   ┆           ┆           ┆           ┆          │\n",
       "└───────────┴───────────┴───────────┴───────────┴───┴───────────┴───────────┴───────────┴──────────┘"
      ]
     },
     "execution_count": 5,
     "metadata": {},
     "output_type": "execute_result"
    }
   ],
   "source": [
    "df.describe()"
   ]
  },
  {
   "cell_type": "code",
   "execution_count": 6,
   "metadata": {},
   "outputs": [
    {
     "data": {
      "text/plain": [
       "1000"
      ]
     },
     "execution_count": 6,
     "metadata": {},
     "output_type": "execute_result"
    }
   ],
   "source": [
    "# ile unikalnych userów?\n",
    "# # eager\n",
    "# df['user_id'].n_unique()\n",
    "\n",
    "# # lazy\n",
    "df.select('user_id').unique().collect().height"
   ]
  },
  {
   "cell_type": "code",
   "execution_count": 11,
   "metadata": {},
   "outputs": [
    {
     "data": {
      "text/html": [
       "<div><style>\n",
       ".dataframe > thead > tr,\n",
       ".dataframe > tbody > tr {\n",
       "  text-align: right;\n",
       "  white-space: pre-wrap;\n",
       "}\n",
       "</style>\n",
       "<small>shape: (3_681_870, 2)</small><table border=\"1\" class=\"dataframe\"><thead><tr><th>merchant</th><th>len</th></tr><tr><td>str</td><td>u32</td></tr></thead><tbody><tr><td>&quot;Smith Ltd&quot;</td><td>23087</td></tr><tr><td>&quot;Smith LLC&quot;</td><td>13600</td></tr><tr><td>&quot;Garcia Group&quot;</td><td>13584</td></tr><tr><td>&quot;Johnson Ltd&quot;</td><td>13573</td></tr><tr><td>&quot;Smith and Sons&quot;</td><td>13546</td></tr><tr><td>&hellip;</td><td>&hellip;</td></tr><tr><td>&quot;Shepard-Hurley&quot;</td><td>1</td></tr><tr><td>&quot;Mills, King and Fuentes&quot;</td><td>1</td></tr><tr><td>&quot;Mckenzie, Hughes and Williams&quot;</td><td>1</td></tr><tr><td>&quot;Rogers, Luna and Hicks&quot;</td><td>1</td></tr><tr><td>&quot;Farrell, Welch and Rich&quot;</td><td>1</td></tr></tbody></table></div>"
      ],
      "text/plain": [
       "shape: (3_681_870, 2)\n",
       "┌───────────────────────────────┬───────┐\n",
       "│ merchant                      ┆ len   │\n",
       "│ ---                           ┆ ---   │\n",
       "│ str                           ┆ u32   │\n",
       "╞═══════════════════════════════╪═══════╡\n",
       "│ Smith Ltd                     ┆ 23087 │\n",
       "│ Smith LLC                     ┆ 13600 │\n",
       "│ Garcia Group                  ┆ 13584 │\n",
       "│ Johnson Ltd                   ┆ 13573 │\n",
       "│ Smith and Sons                ┆ 13546 │\n",
       "│ …                             ┆ …     │\n",
       "│ Shepard-Hurley                ┆ 1     │\n",
       "│ Mills, King and Fuentes       ┆ 1     │\n",
       "│ Mckenzie, Hughes and Williams ┆ 1     │\n",
       "│ Rogers, Luna and Hicks        ┆ 1     │\n",
       "│ Farrell, Welch and Rich       ┆ 1     │\n",
       "└───────────────────────────────┴───────┘"
      ]
     },
     "execution_count": 11,
     "metadata": {},
     "output_type": "execute_result"
    }
   ],
   "source": [
    "# popularnosc sprzedawcow\n",
    "\n",
    "# # eager\n",
    "# df.group_by(\"merchant\").count().sort(\"count\", descending=True)\n",
    "\n",
    "# lazy\n",
    "df.group_by(\"merchant\").len().sort(\"len\", descending=True).collect()"
   ]
  },
  {
   "cell_type": "code",
   "execution_count": 12,
   "metadata": {},
   "outputs": [],
   "source": [
    "# fraud detection\n",
    "\n",
    "# większość transakcji jednego usera jest z jednego kraju, \n",
    "# jako fraud bedziemy identyfikowali transakcje ktore są wykonane z innego kraju\n",
    "\n",
    "# Obliczamy liczbę transakcji dla każdej pary user-kraj\n",
    "user_country_counts = (\n",
    "    df.group_by(['user_id', 'country'])\n",
    "    .len()\n",
    "    .sort(['user_id', 'len'], descending=[False, True])\n",
    ")\n",
    "\n",
    "# Dla każdego usera bierzemy kraj z największą liczbą transakcji\n",
    "user_most_common_country = (\n",
    "    user_country_counts\n",
    "    .group_by('user_id')\n",
    "    .first()\n",
    "    .select(['user_id', 'country'])\n",
    "    .rename({'country': 'country_most_common'})\n",
    ")\n",
    "\n",
    "# Dodajemy kolumnę z najczęstszym krajem dla danego usera\n",
    "df_with_common_country = df.join(\n",
    "    user_most_common_country,\n",
    "    on='user_id'\n",
    ")\n",
    "\n",
    "# Flagujemy transakcje które są wykonane z innego kraju\n",
    "df_with_anomaly = df_with_common_country.with_columns(\n",
    "    (pl.col('country') != pl.col('country_most_common'))\n",
    "    .alias('is_country_anomaly')\n",
    ")\n",
    "\n",
    "# Show transactions that are potential fraud based on country anomaly\n",
    "country_anomaly_transactions = df_with_anomaly.filter(pl.col('is_country_anomaly'))"
   ]
  },
  {
   "cell_type": "code",
   "execution_count": 13,
   "metadata": {},
   "outputs": [
    {
     "data": {
      "text/html": [
       "<div><style>\n",
       ".dataframe > thead > tr,\n",
       ".dataframe > tbody > tr {\n",
       "  text-align: right;\n",
       "  white-space: pre-wrap;\n",
       "}\n",
       "</style>\n",
       "<small>shape: (116_274, 10)</small><table border=\"1\" class=\"dataframe\"><thead><tr><th>user_id</th><th>timestamp</th><th>amount</th><th>currency</th><th>card_number</th><th>merchant</th><th>country</th><th>is_fraud</th><th>country_most_common</th><th>is_country_anomaly</th></tr><tr><td>i64</td><td>str</td><td>f64</td><td>str</td><td>i64</td><td>str</td><td>str</td><td>bool</td><td>str</td><td>bool</td></tr></thead><tbody><tr><td>416</td><td>&quot;2025-01-24T14:51:51.589288&quot;</td><td>795.94</td><td>&quot;USD&quot;</td><td>6574986342026211</td><td>&quot;Zavala-Smith&quot;</td><td>&quot;Tonga&quot;</td><td>true</td><td>&quot;Trinidad and Tobago&quot;</td><td>true</td></tr><tr><td>315</td><td>&quot;2025-02-27T09:02:39.994344&quot;</td><td>4321.36</td><td>&quot;USD&quot;</td><td>30314794185875</td><td>&quot;Garcia, Vaughn and Gross&quot;</td><td>&quot;Anguilla&quot;</td><td>true</td><td>&quot;Colombia&quot;</td><td>true</td></tr><tr><td>544</td><td>&quot;2025-02-12T19:13:53.795689&quot;</td><td>2601.09</td><td>&quot;USD&quot;</td><td>676261895111</td><td>&quot;King PLC&quot;</td><td>&quot;Denmark&quot;</td><td>true</td><td>&quot;Cuba&quot;</td><td>true</td></tr><tr><td>383</td><td>&quot;2025-01-25T20:03:44.503700&quot;</td><td>1155.75</td><td>&quot;USD&quot;</td><td>4305310418279407843</td><td>&quot;Potter, Guzman and Sanders&quot;</td><td>&quot;Luxembourg&quot;</td><td>true</td><td>&quot;Holy See (Vatican City State)&quot;</td><td>true</td></tr><tr><td>239</td><td>&quot;2025-04-15T11:35:15.845369&quot;</td><td>4942.94</td><td>&quot;USD&quot;</td><td>4592258309261</td><td>&quot;Weeks and Sons&quot;</td><td>&quot;Qatar&quot;</td><td>true</td><td>&quot;Australia&quot;</td><td>true</td></tr><tr><td>&hellip;</td><td>&hellip;</td><td>&hellip;</td><td>&hellip;</td><td>&hellip;</td><td>&hellip;</td><td>&hellip;</td><td>&hellip;</td><td>&hellip;</td><td>&hellip;</td></tr><tr><td>361</td><td>&quot;2025-06-01T02:08:49.982861&quot;</td><td>2838.87</td><td>&quot;USD&quot;</td><td>4044752444144174491</td><td>&quot;Ramos-Stuart&quot;</td><td>&quot;Uganda&quot;</td><td>true</td><td>&quot;China&quot;</td><td>true</td></tr><tr><td>793</td><td>&quot;2025-01-03T05:40:29.624030&quot;</td><td>4421.33</td><td>&quot;USD&quot;</td><td>4847487058356</td><td>&quot;Martinez, Gay and Hunter&quot;</td><td>&quot;Bermuda&quot;</td><td>true</td><td>&quot;Madagascar&quot;</td><td>true</td></tr><tr><td>128</td><td>&quot;2025-01-03T02:41:39.203949&quot;</td><td>244.71</td><td>&quot;USD&quot;</td><td>3542503683241949</td><td>&quot;Leblanc PLC&quot;</td><td>&quot;Sierra Leone&quot;</td><td>true</td><td>&quot;Bulgaria&quot;</td><td>true</td></tr><tr><td>240</td><td>&quot;2025-02-12T19:28:38.926783&quot;</td><td>1931.53</td><td>&quot;USD&quot;</td><td>4754430260162796</td><td>&quot;Griffith-Smith&quot;</td><td>&quot;Germany&quot;</td><td>true</td><td>&quot;Argentina&quot;</td><td>true</td></tr><tr><td>359</td><td>&quot;2025-02-10T09:00:13.592572&quot;</td><td>3776.88</td><td>&quot;USD&quot;</td><td>378463239747151</td><td>&quot;Harris-Brown&quot;</td><td>&quot;Bouvet Island (Bouvetoya)&quot;</td><td>true</td><td>&quot;Suriname&quot;</td><td>true</td></tr></tbody></table></div>"
      ],
      "text/plain": [
       "shape: (116_274, 10)\n",
       "┌─────────┬─────────────┬─────────┬──────────┬───┬────────────┬──────────┬────────────┬────────────┐\n",
       "│ user_id ┆ timestamp   ┆ amount  ┆ currency ┆ … ┆ country    ┆ is_fraud ┆ country_mo ┆ is_country │\n",
       "│ ---     ┆ ---         ┆ ---     ┆ ---      ┆   ┆ ---        ┆ ---      ┆ st_common  ┆ _anomaly   │\n",
       "│ i64     ┆ str         ┆ f64     ┆ str      ┆   ┆ str        ┆ bool     ┆ ---        ┆ ---        │\n",
       "│         ┆             ┆         ┆          ┆   ┆            ┆          ┆ str        ┆ bool       │\n",
       "╞═════════╪═════════════╪═════════╪══════════╪═══╪════════════╪══════════╪════════════╪════════════╡\n",
       "│ 416     ┆ 2025-01-24T ┆ 795.94  ┆ USD      ┆ … ┆ Tonga      ┆ true     ┆ Trinidad   ┆ true       │\n",
       "│         ┆ 14:51:51.58 ┆         ┆          ┆   ┆            ┆          ┆ and Tobago ┆            │\n",
       "│         ┆ 9288        ┆         ┆          ┆   ┆            ┆          ┆            ┆            │\n",
       "│ 315     ┆ 2025-02-27T ┆ 4321.36 ┆ USD      ┆ … ┆ Anguilla   ┆ true     ┆ Colombia   ┆ true       │\n",
       "│         ┆ 09:02:39.99 ┆         ┆          ┆   ┆            ┆          ┆            ┆            │\n",
       "│         ┆ 4344        ┆         ┆          ┆   ┆            ┆          ┆            ┆            │\n",
       "│ 544     ┆ 2025-02-12T ┆ 2601.09 ┆ USD      ┆ … ┆ Denmark    ┆ true     ┆ Cuba       ┆ true       │\n",
       "│         ┆ 19:13:53.79 ┆         ┆          ┆   ┆            ┆          ┆            ┆            │\n",
       "│         ┆ 5689        ┆         ┆          ┆   ┆            ┆          ┆            ┆            │\n",
       "│ 383     ┆ 2025-01-25T ┆ 1155.75 ┆ USD      ┆ … ┆ Luxembourg ┆ true     ┆ Holy See   ┆ true       │\n",
       "│         ┆ 20:03:44.50 ┆         ┆          ┆   ┆            ┆          ┆ (Vatican   ┆            │\n",
       "│         ┆ 3700        ┆         ┆          ┆   ┆            ┆          ┆ City       ┆            │\n",
       "│         ┆             ┆         ┆          ┆   ┆            ┆          ┆ State)     ┆            │\n",
       "│ 239     ┆ 2025-04-15T ┆ 4942.94 ┆ USD      ┆ … ┆ Qatar      ┆ true     ┆ Australia  ┆ true       │\n",
       "│         ┆ 11:35:15.84 ┆         ┆          ┆   ┆            ┆          ┆            ┆            │\n",
       "│         ┆ 5369        ┆         ┆          ┆   ┆            ┆          ┆            ┆            │\n",
       "│ …       ┆ …           ┆ …       ┆ …        ┆ … ┆ …          ┆ …        ┆ …          ┆ …          │\n",
       "│ 361     ┆ 2025-06-01T ┆ 2838.87 ┆ USD      ┆ … ┆ Uganda     ┆ true     ┆ China      ┆ true       │\n",
       "│         ┆ 02:08:49.98 ┆         ┆          ┆   ┆            ┆          ┆            ┆            │\n",
       "│         ┆ 2861        ┆         ┆          ┆   ┆            ┆          ┆            ┆            │\n",
       "│ 793     ┆ 2025-01-03T ┆ 4421.33 ┆ USD      ┆ … ┆ Bermuda    ┆ true     ┆ Madagascar ┆ true       │\n",
       "│         ┆ 05:40:29.62 ┆         ┆          ┆   ┆            ┆          ┆            ┆            │\n",
       "│         ┆ 4030        ┆         ┆          ┆   ┆            ┆          ┆            ┆            │\n",
       "│ 128     ┆ 2025-01-03T ┆ 244.71  ┆ USD      ┆ … ┆ Sierra     ┆ true     ┆ Bulgaria   ┆ true       │\n",
       "│         ┆ 02:41:39.20 ┆         ┆          ┆   ┆ Leone      ┆          ┆            ┆            │\n",
       "│         ┆ 3949        ┆         ┆          ┆   ┆            ┆          ┆            ┆            │\n",
       "│ 240     ┆ 2025-02-12T ┆ 1931.53 ┆ USD      ┆ … ┆ Germany    ┆ true     ┆ Argentina  ┆ true       │\n",
       "│         ┆ 19:28:38.92 ┆         ┆          ┆   ┆            ┆          ┆            ┆            │\n",
       "│         ┆ 6783        ┆         ┆          ┆   ┆            ┆          ┆            ┆            │\n",
       "│ 359     ┆ 2025-02-10T ┆ 3776.88 ┆ USD      ┆ … ┆ Bouvet     ┆ true     ┆ Suriname   ┆ true       │\n",
       "│         ┆ 09:00:13.59 ┆         ┆          ┆   ┆ Island (Bo ┆          ┆            ┆            │\n",
       "│         ┆ 2572        ┆         ┆          ┆   ┆ uvetoya)   ┆          ┆            ┆            │\n",
       "└─────────┴─────────────┴─────────┴──────────┴───┴────────────┴──────────┴────────────┴────────────┘"
      ]
     },
     "execution_count": 13,
     "metadata": {},
     "output_type": "execute_result"
    }
   ],
   "source": [
    "# #eager\n",
    "# country_anomaly_transactions\n",
    "\n",
    "# lazy\n",
    "country_anomaly_transactions.collect()"
   ]
  },
  {
   "cell_type": "code",
   "execution_count": 15,
   "metadata": {},
   "outputs": [
    {
     "name": "stdout",
     "output_type": "stream",
     "text": [
      "FILTER col(\"is_country_anomaly\")\n",
      "FROM\n",
      "   WITH_COLUMNS:\n",
      "   [[(col(\"country\")) != (col(\"country_most_common\"))].alias(\"is_country_anomaly\")] \n",
      "    INNER JOIN:\n",
      "    LEFT PLAN ON: [col(\"user_id\")]\n",
      "      CACHE[id: 0, cache_hits: 1]\n",
      "        simple π 8/8 [\"user_id\", \"timestamp\", ... 6 other columns]\n",
      "          Csv SCAN [./data/data_1gb.csv] [id: 4434919760]\n",
      "          PROJECT 8/8 COLUMNS\n",
      "    RIGHT PLAN ON: [col(\"user_id\")]\n",
      "      RENAME\n",
      "        AGGREGATE[maintain_order: false]\n",
      "          [col(\"country\").first()] BY [col(\"user_id\")]\n",
      "          FROM\n",
      "          SORT BY [col(\"user_id\"), col(\"len\")]\n",
      "            AGGREGATE[maintain_order: false]\n",
      "              [len()] BY [col(\"user_id\"), col(\"country\")]\n",
      "              FROM\n",
      "              simple π 2/2 [\"user_id\", \"country\"]\n",
      "                CACHE[id: 0, cache_hits: 1]\n",
      "                  simple π 8/8 [\"user_id\", \"timestamp\", ... 6 other columns]\n",
      "                    Csv SCAN [./data/data_1gb.csv] [id: 4434919760]\n",
      "                    PROJECT 8/8 COLUMNS\n",
      "    END INNER JOIN\n"
     ]
    }
   ],
   "source": [
    "print(country_anomaly_transactions.explain())"
   ]
  },
  {
   "cell_type": "code",
   "execution_count": 14,
   "metadata": {},
   "outputs": [
    {
     "data": {
      "text/plain": [
       "0.9962551963798462"
      ]
     },
     "execution_count": 14,
     "metadata": {},
     "output_type": "execute_result"
    }
   ],
   "source": [
    "# # eager\n",
    "# len(country_anomaly_transactions) / len(df) * 100.0\n",
    "\n",
    "# lazy\n",
    "country_anomaly_transactions.select(pl.len()).collect().item() / df.select(pl.len()).collect().item() * 100.0"
   ]
  },
  {
   "cell_type": "code",
   "execution_count": null,
   "metadata": {},
   "outputs": [],
   "source": []
  },
  {
   "cell_type": "code",
   "execution_count": null,
   "metadata": {},
   "outputs": [],
   "source": []
  }
 ],
 "metadata": {
  "kernelspec": {
   "display_name": ".venv",
   "language": "python",
   "name": "python3"
  },
  "language_info": {
   "codemirror_mode": {
    "name": "ipython",
    "version": 3
   },
   "file_extension": ".py",
   "mimetype": "text/x-python",
   "name": "python",
   "nbconvert_exporter": "python",
   "pygments_lexer": "ipython3",
   "version": "3.12.7"
  }
 },
 "nbformat": 4,
 "nbformat_minor": 2
}
