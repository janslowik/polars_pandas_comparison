{
 "cells": [
  {
   "cell_type": "code",
   "execution_count": 1,
   "metadata": {},
   "outputs": [],
   "source": [
    "import polars as pl"
   ]
  },
  {
   "cell_type": "code",
   "execution_count": 2,
   "metadata": {},
   "outputs": [],
   "source": [
    "# data_path = './data/data_1mb.csv'\n",
    "# data_path = './data/data_1gb.csv'\n",
    "# data_path = './data/data_10gb.csv'\n",
    "data_path = './data/data_30gb.csv'"
   ]
  },
  {
   "cell_type": "code",
   "execution_count": 3,
   "metadata": {},
   "outputs": [],
   "source": [
    "df = pl.read_csv(data_path)"
   ]
  },
  {
   "cell_type": "code",
   "execution_count": 5,
   "metadata": {},
   "outputs": [
    {
     "data": {
      "text/plain": [
       "306783378"
      ]
     },
     "execution_count": 5,
     "metadata": {},
     "output_type": "execute_result"
    }
   ],
   "source": [
    "df.height"
   ]
  },
  {
   "cell_type": "code",
   "execution_count": 4,
   "metadata": {},
   "outputs": [
    {
     "data": {
      "text/html": [
       "<div><style>\n",
       ".dataframe > thead > tr,\n",
       ".dataframe > tbody > tr {\n",
       "  text-align: right;\n",
       "  white-space: pre-wrap;\n",
       "}\n",
       "</style>\n",
       "<small>shape: (5, 8)</small><table border=\"1\" class=\"dataframe\"><thead><tr><th>user_id</th><th>timestamp</th><th>amount</th><th>currency</th><th>card_number</th><th>merchant</th><th>country</th><th>is_fraud</th></tr><tr><td>i64</td><td>str</td><td>f64</td><td>str</td><td>i64</td><td>str</td><td>str</td><td>bool</td></tr></thead><tbody><tr><td>892</td><td>&quot;2025-01-30T06:46:59.148540&quot;</td><td>1693.53</td><td>&quot;USD&quot;</td><td>4800977575264</td><td>&quot;Nichols LLC&quot;</td><td>&quot;Singapore&quot;</td><td>false</td></tr><tr><td>456</td><td>&quot;2025-04-20T11:55:18.554499&quot;</td><td>2426.07</td><td>&quot;USD&quot;</td><td>4384766118210420</td><td>&quot;Greene Inc&quot;</td><td>&quot;Chile&quot;</td><td>false</td></tr><tr><td>141</td><td>&quot;2025-03-07T14:24:03.622931&quot;</td><td>3342.85</td><td>&quot;USD&quot;</td><td>213144278641609</td><td>&quot;Johnson Group&quot;</td><td>&quot;Aruba&quot;</td><td>false</td></tr><tr><td>746</td><td>&quot;2025-02-28T17:11:27.285112&quot;</td><td>2342.18</td><td>&quot;USD&quot;</td><td>213164815767014</td><td>&quot;Werner, Gonzales and Phillips&quot;</td><td>&quot;New Caledonia&quot;</td><td>false</td></tr><tr><td>613</td><td>&quot;2025-02-18T22:04:18.463873&quot;</td><td>2791.12</td><td>&quot;USD&quot;</td><td>30013009327088</td><td>&quot;Petty-Mcclain&quot;</td><td>&quot;Seychelles&quot;</td><td>false</td></tr></tbody></table></div>"
      ],
      "text/plain": [
       "shape: (5, 8)\n",
       "┌─────────┬──────────────┬─────────┬──────────┬─────────────┬─────────────┬─────────────┬──────────┐\n",
       "│ user_id ┆ timestamp    ┆ amount  ┆ currency ┆ card_number ┆ merchant    ┆ country     ┆ is_fraud │\n",
       "│ ---     ┆ ---          ┆ ---     ┆ ---      ┆ ---         ┆ ---         ┆ ---         ┆ ---      │\n",
       "│ i64     ┆ str          ┆ f64     ┆ str      ┆ i64         ┆ str         ┆ str         ┆ bool     │\n",
       "╞═════════╪══════════════╪═════════╪══════════╪═════════════╪═════════════╪═════════════╪══════════╡\n",
       "│ 892     ┆ 2025-01-30T0 ┆ 1693.53 ┆ USD      ┆ 48009775752 ┆ Nichols LLC ┆ Singapore   ┆ false    │\n",
       "│         ┆ 6:46:59.1485 ┆         ┆          ┆ 64          ┆             ┆             ┆          │\n",
       "│         ┆ 40           ┆         ┆          ┆             ┆             ┆             ┆          │\n",
       "│ 456     ┆ 2025-04-20T1 ┆ 2426.07 ┆ USD      ┆ 43847661182 ┆ Greene Inc  ┆ Chile       ┆ false    │\n",
       "│         ┆ 1:55:18.5544 ┆         ┆          ┆ 10420       ┆             ┆             ┆          │\n",
       "│         ┆ 99           ┆         ┆          ┆             ┆             ┆             ┆          │\n",
       "│ 141     ┆ 2025-03-07T1 ┆ 3342.85 ┆ USD      ┆ 21314427864 ┆ Johnson     ┆ Aruba       ┆ false    │\n",
       "│         ┆ 4:24:03.6229 ┆         ┆          ┆ 1609        ┆ Group       ┆             ┆          │\n",
       "│         ┆ 31           ┆         ┆          ┆             ┆             ┆             ┆          │\n",
       "│ 746     ┆ 2025-02-28T1 ┆ 2342.18 ┆ USD      ┆ 21316481576 ┆ Werner,     ┆ New         ┆ false    │\n",
       "│         ┆ 7:11:27.2851 ┆         ┆          ┆ 7014        ┆ Gonzales    ┆ Caledonia   ┆          │\n",
       "│         ┆ 12           ┆         ┆          ┆             ┆ and         ┆             ┆          │\n",
       "│         ┆              ┆         ┆          ┆             ┆ Phillips    ┆             ┆          │\n",
       "│ 613     ┆ 2025-02-18T2 ┆ 2791.12 ┆ USD      ┆ 30013009327 ┆ Petty-Mccla ┆ Seychelles  ┆ false    │\n",
       "│         ┆ 2:04:18.4638 ┆         ┆          ┆ 088         ┆ in          ┆             ┆          │\n",
       "│         ┆ 73           ┆         ┆          ┆             ┆             ┆             ┆          │\n",
       "└─────────┴──────────────┴─────────┴──────────┴─────────────┴─────────────┴─────────────┴──────────┘"
      ]
     },
     "execution_count": 4,
     "metadata": {},
     "output_type": "execute_result"
    }
   ],
   "source": [
    "df.head()"
   ]
  },
  {
   "cell_type": "code",
   "execution_count": null,
   "metadata": {},
   "outputs": [],
   "source": [
    "df.describe()"
   ]
  },
  {
   "cell_type": "code",
   "execution_count": 39,
   "metadata": {},
   "outputs": [
    {
     "data": {
      "text/plain": [
       "1000"
      ]
     },
     "execution_count": 39,
     "metadata": {},
     "output_type": "execute_result"
    }
   ],
   "source": [
    "# ile unikalnych userów?\n",
    "len(df['user_id'].unique())\n",
    "\n"
   ]
  },
  {
   "cell_type": "code",
   "execution_count": 40,
   "metadata": {},
   "outputs": [
    {
     "name": "stderr",
     "output_type": "stream",
     "text": [
      "/var/folders/xk/bnpzxy5j2t336cl3jrv0gp0h0000gn/T/ipykernel_50146/353970258.py:2: DeprecationWarning: `GroupBy.count` was renamed; use `GroupBy.len` instead\n",
      "  df.group_by(\"merchant\").count().sort(\"count\", descending=True)\n"
     ]
    },
    {
     "data": {
      "text/html": [
       "<div><style>\n",
       ".dataframe > thead > tr,\n",
       ".dataframe > tbody > tr {\n",
       "  text-align: right;\n",
       "  white-space: pre-wrap;\n",
       "}\n",
       "</style>\n",
       "<small>shape: (27_308_714, 2)</small><table border=\"1\" class=\"dataframe\"><thead><tr><th>merchant</th><th>count</th></tr><tr><td>str</td><td>u32</td></tr></thead><tbody><tr><td>&quot;Williams Ltd&quot;</td><td>172212</td></tr><tr><td>&quot;Smith Group&quot;</td><td>165563</td></tr><tr><td>&quot;Smith PLC&quot;</td><td>164450</td></tr><tr><td>&quot;Smith LLC&quot;</td><td>164037</td></tr><tr><td>&quot;Smith Ltd&quot;</td><td>141550</td></tr><tr><td>&hellip;</td><td>&hellip;</td></tr><tr><td>&quot;Parker, Nunez and Thomas&quot;</td><td>1</td></tr><tr><td>&quot;Brennan, Williams and Sampson&quot;</td><td>1</td></tr><tr><td>&quot;Rush, Martinez and Flores&quot;</td><td>1</td></tr><tr><td>&quot;Watts, Carlson and Mcclain&quot;</td><td>1</td></tr><tr><td>&quot;Brooks, Olsen and Thomas&quot;</td><td>1</td></tr></tbody></table></div>"
      ],
      "text/plain": [
       "shape: (27_308_714, 2)\n",
       "┌───────────────────────────────┬────────┐\n",
       "│ merchant                      ┆ count  │\n",
       "│ ---                           ┆ ---    │\n",
       "│ str                           ┆ u32    │\n",
       "╞═══════════════════════════════╪════════╡\n",
       "│ Williams Ltd                  ┆ 172212 │\n",
       "│ Smith Group                   ┆ 165563 │\n",
       "│ Smith PLC                     ┆ 164450 │\n",
       "│ Smith LLC                     ┆ 164037 │\n",
       "│ Smith Ltd                     ┆ 141550 │\n",
       "│ …                             ┆ …      │\n",
       "│ Parker, Nunez and Thomas      ┆ 1      │\n",
       "│ Brennan, Williams and Sampson ┆ 1      │\n",
       "│ Rush, Martinez and Flores     ┆ 1      │\n",
       "│ Watts, Carlson and Mcclain    ┆ 1      │\n",
       "│ Brooks, Olsen and Thomas      ┆ 1      │\n",
       "└───────────────────────────────┴────────┘"
      ]
     },
     "execution_count": 40,
     "metadata": {},
     "output_type": "execute_result"
    }
   ],
   "source": [
    "# popularnosc sprzedawcow\n",
    "df.group_by(\"merchant\").count().sort(\"count\", descending=True)"
   ]
  },
  {
   "cell_type": "code",
   "execution_count": 41,
   "metadata": {},
   "outputs": [],
   "source": [
    "# fraud detection\n",
    "\n",
    "# większość transakcji jednego usera jest z jednego kraju, \n",
    "# jako fraud bedziemy identyfikowali transakcje ktore są wykonane z innego kraju\n",
    "\n",
    "# Obliczamy liczbę transakcji dla każdej pary user-kraj\n",
    "user_country_counts = (\n",
    "    df.group_by(['user_id', 'country'])\n",
    "    .len()\n",
    "    .sort(['user_id', 'len'], descending=[False, True])\n",
    ")\n",
    "\n",
    "# Dla każdego usera bierzemy kraj z największą liczbą transakcji\n",
    "user_most_common_country = (\n",
    "    user_country_counts\n",
    "    .group_by('user_id')\n",
    "    .first()\n",
    "    .select(['user_id', 'country'])\n",
    "    .rename({'country': 'country_most_common'})\n",
    ")\n",
    "\n",
    "# Dodajemy kolumnę z najczęstszym krajem dla danego usera\n",
    "df_with_common_country = df.join(\n",
    "    user_most_common_country,\n",
    "    on='user_id'\n",
    ")\n",
    "\n",
    "# Flagujemy transakcje które są wykonane z innego kraju\n",
    "df_with_anomaly = df_with_common_country.with_columns(\n",
    "    (pl.col('country') != pl.col('country_most_common'))\n",
    "    .alias('is_country_anomaly')\n",
    ")\n",
    "\n",
    "# Show transactions that are potential fraud based on country anomaly\n",
    "country_anomaly_transactions = df_with_anomaly.filter(pl.col('is_country_anomaly'))"
   ]
  },
  {
   "cell_type": "code",
   "execution_count": 42,
   "metadata": {},
   "outputs": [
    {
     "data": {
      "text/html": [
       "<div><style>\n",
       ".dataframe > thead > tr,\n",
       ".dataframe > tbody > tr {\n",
       "  text-align: right;\n",
       "  white-space: pre-wrap;\n",
       "}\n",
       "</style>\n",
       "<small>shape: (1_203_460, 10)</small><table border=\"1\" class=\"dataframe\"><thead><tr><th>user_id</th><th>timestamp</th><th>amount</th><th>currency</th><th>card_number</th><th>merchant</th><th>country</th><th>is_fraud</th><th>country_most_common</th><th>is_country_anomaly</th></tr><tr><td>i64</td><td>str</td><td>f64</td><td>str</td><td>i64</td><td>str</td><td>str</td><td>bool</td><td>str</td><td>bool</td></tr></thead><tbody><tr><td>276</td><td>&quot;2025-02-26T04:12:06.093832&quot;</td><td>4267.2</td><td>&quot;USD&quot;</td><td>379654095189236</td><td>&quot;Shaw, Gross and Smith&quot;</td><td>&quot;Hungary&quot;</td><td>true</td><td>&quot;Burundi&quot;</td><td>true</td></tr><tr><td>997</td><td>&quot;2025-01-18T19:49:20.107546&quot;</td><td>1235.01</td><td>&quot;USD&quot;</td><td>213101170861446</td><td>&quot;Gray, Lopez and Diaz&quot;</td><td>&quot;China&quot;</td><td>true</td><td>&quot;Canada&quot;</td><td>true</td></tr><tr><td>845</td><td>&quot;2025-05-05T14:59:25.889815&quot;</td><td>436.8</td><td>&quot;USD&quot;</td><td>639017064739</td><td>&quot;Chavez, Smith and Whitney&quot;</td><td>&quot;Australia&quot;</td><td>true</td><td>&quot;Japan&quot;</td><td>true</td></tr><tr><td>61</td><td>&quot;2025-01-26T05:27:08.790318&quot;</td><td>3358.25</td><td>&quot;USD&quot;</td><td>4389224905053061</td><td>&quot;Lowery-Wilson&quot;</td><td>&quot;Western Sahara&quot;</td><td>true</td><td>&quot;Guyana&quot;</td><td>true</td></tr><tr><td>109</td><td>&quot;2025-01-29T10:36:37.154047&quot;</td><td>3371.63</td><td>&quot;USD&quot;</td><td>4501378789757</td><td>&quot;Lopez-Christensen&quot;</td><td>&quot;Czech Republic&quot;</td><td>true</td><td>&quot;Slovakia (Slovak Republic)&quot;</td><td>true</td></tr><tr><td>&hellip;</td><td>&hellip;</td><td>&hellip;</td><td>&hellip;</td><td>&hellip;</td><td>&hellip;</td><td>&hellip;</td><td>&hellip;</td><td>&hellip;</td><td>&hellip;</td></tr><tr><td>785</td><td>&quot;2025-04-12T16:12:42.929146&quot;</td><td>1057.88</td><td>&quot;USD&quot;</td><td>213155284249245</td><td>&quot;Eaton, Harper and Bennett&quot;</td><td>&quot;Belize&quot;</td><td>true</td><td>&quot;Cameroon&quot;</td><td>true</td></tr><tr><td>29</td><td>&quot;2025-01-03T15:56:27.345241&quot;</td><td>1914.58</td><td>&quot;USD&quot;</td><td>213144784346107</td><td>&quot;Stephens-Gibson&quot;</td><td>&quot;Algeria&quot;</td><td>true</td><td>&quot;Singapore&quot;</td><td>true</td></tr><tr><td>229</td><td>&quot;2025-03-16T10:28:06.480631&quot;</td><td>2470.91</td><td>&quot;USD&quot;</td><td>3596037048821272</td><td>&quot;Snow-Ortiz&quot;</td><td>&quot;Oman&quot;</td><td>true</td><td>&quot;Libyan Arab Jamahiriya&quot;</td><td>true</td></tr><tr><td>235</td><td>&quot;2025-02-07T09:08:27.274142&quot;</td><td>1061.65</td><td>&quot;USD&quot;</td><td>4253839017476828</td><td>&quot;Hurst, Ortega and Miller&quot;</td><td>&quot;Brazil&quot;</td><td>true</td><td>&quot;Congo&quot;</td><td>true</td></tr><tr><td>855</td><td>&quot;2025-03-27T09:05:27.361785&quot;</td><td>3371.25</td><td>&quot;USD&quot;</td><td>4443776836064</td><td>&quot;Stephens Group&quot;</td><td>&quot;Holy See (Vatican City State)&quot;</td><td>true</td><td>&quot;Aruba&quot;</td><td>true</td></tr></tbody></table></div>"
      ],
      "text/plain": [
       "shape: (1_203_460, 10)\n",
       "┌─────────┬─────────────┬─────────┬──────────┬───┬────────────┬──────────┬────────────┬────────────┐\n",
       "│ user_id ┆ timestamp   ┆ amount  ┆ currency ┆ … ┆ country    ┆ is_fraud ┆ country_mo ┆ is_country │\n",
       "│ ---     ┆ ---         ┆ ---     ┆ ---      ┆   ┆ ---        ┆ ---      ┆ st_common  ┆ _anomaly   │\n",
       "│ i64     ┆ str         ┆ f64     ┆ str      ┆   ┆ str        ┆ bool     ┆ ---        ┆ ---        │\n",
       "│         ┆             ┆         ┆          ┆   ┆            ┆          ┆ str        ┆ bool       │\n",
       "╞═════════╪═════════════╪═════════╪══════════╪═══╪════════════╪══════════╪════════════╪════════════╡\n",
       "│ 276     ┆ 2025-02-26T ┆ 4267.2  ┆ USD      ┆ … ┆ Hungary    ┆ true     ┆ Burundi    ┆ true       │\n",
       "│         ┆ 04:12:06.09 ┆         ┆          ┆   ┆            ┆          ┆            ┆            │\n",
       "│         ┆ 3832        ┆         ┆          ┆   ┆            ┆          ┆            ┆            │\n",
       "│ 997     ┆ 2025-01-18T ┆ 1235.01 ┆ USD      ┆ … ┆ China      ┆ true     ┆ Canada     ┆ true       │\n",
       "│         ┆ 19:49:20.10 ┆         ┆          ┆   ┆            ┆          ┆            ┆            │\n",
       "│         ┆ 7546        ┆         ┆          ┆   ┆            ┆          ┆            ┆            │\n",
       "│ 845     ┆ 2025-05-05T ┆ 436.8   ┆ USD      ┆ … ┆ Australia  ┆ true     ┆ Japan      ┆ true       │\n",
       "│         ┆ 14:59:25.88 ┆         ┆          ┆   ┆            ┆          ┆            ┆            │\n",
       "│         ┆ 9815        ┆         ┆          ┆   ┆            ┆          ┆            ┆            │\n",
       "│ 61      ┆ 2025-01-26T ┆ 3358.25 ┆ USD      ┆ … ┆ Western    ┆ true     ┆ Guyana     ┆ true       │\n",
       "│         ┆ 05:27:08.79 ┆         ┆          ┆   ┆ Sahara     ┆          ┆            ┆            │\n",
       "│         ┆ 0318        ┆         ┆          ┆   ┆            ┆          ┆            ┆            │\n",
       "│ 109     ┆ 2025-01-29T ┆ 3371.63 ┆ USD      ┆ … ┆ Czech      ┆ true     ┆ Slovakia   ┆ true       │\n",
       "│         ┆ 10:36:37.15 ┆         ┆          ┆   ┆ Republic   ┆          ┆ (Slovak    ┆            │\n",
       "│         ┆ 4047        ┆         ┆          ┆   ┆            ┆          ┆ Republic)  ┆            │\n",
       "│ …       ┆ …           ┆ …       ┆ …        ┆ … ┆ …          ┆ …        ┆ …          ┆ …          │\n",
       "│ 785     ┆ 2025-04-12T ┆ 1057.88 ┆ USD      ┆ … ┆ Belize     ┆ true     ┆ Cameroon   ┆ true       │\n",
       "│         ┆ 16:12:42.92 ┆         ┆          ┆   ┆            ┆          ┆            ┆            │\n",
       "│         ┆ 9146        ┆         ┆          ┆   ┆            ┆          ┆            ┆            │\n",
       "│ 29      ┆ 2025-01-03T ┆ 1914.58 ┆ USD      ┆ … ┆ Algeria    ┆ true     ┆ Singapore  ┆ true       │\n",
       "│         ┆ 15:56:27.34 ┆         ┆          ┆   ┆            ┆          ┆            ┆            │\n",
       "│         ┆ 5241        ┆         ┆          ┆   ┆            ┆          ┆            ┆            │\n",
       "│ 229     ┆ 2025-03-16T ┆ 2470.91 ┆ USD      ┆ … ┆ Oman       ┆ true     ┆ Libyan     ┆ true       │\n",
       "│         ┆ 10:28:06.48 ┆         ┆          ┆   ┆            ┆          ┆ Arab       ┆            │\n",
       "│         ┆ 0631        ┆         ┆          ┆   ┆            ┆          ┆ Jamahiriya ┆            │\n",
       "│ 235     ┆ 2025-02-07T ┆ 1061.65 ┆ USD      ┆ … ┆ Brazil     ┆ true     ┆ Congo      ┆ true       │\n",
       "│         ┆ 09:08:27.27 ┆         ┆          ┆   ┆            ┆          ┆            ┆            │\n",
       "│         ┆ 4142        ┆         ┆          ┆   ┆            ┆          ┆            ┆            │\n",
       "│ 855     ┆ 2025-03-27T ┆ 3371.25 ┆ USD      ┆ … ┆ Holy See   ┆ true     ┆ Aruba      ┆ true       │\n",
       "│         ┆ 09:05:27.36 ┆         ┆          ┆   ┆ (Vatican   ┆          ┆            ┆            │\n",
       "│         ┆ 1785        ┆         ┆          ┆   ┆ City       ┆          ┆            ┆            │\n",
       "│         ┆             ┆         ┆          ┆   ┆ State)     ┆          ┆            ┆            │\n",
       "└─────────┴─────────────┴─────────┴──────────┴───┴────────────┴──────────┴────────────┴────────────┘"
      ]
     },
     "execution_count": 42,
     "metadata": {},
     "output_type": "execute_result"
    }
   ],
   "source": [
    "country_anomaly_transactions"
   ]
  },
  {
   "cell_type": "code",
   "execution_count": 43,
   "metadata": {},
   "outputs": [
    {
     "data": {
      "text/plain": [
       "0.9975204307428924"
      ]
     },
     "execution_count": 43,
     "metadata": {},
     "output_type": "execute_result"
    }
   ],
   "source": [
    "len(country_anomaly_transactions) / len(df) * 100.0"
   ]
  },
  {
   "cell_type": "code",
   "execution_count": null,
   "metadata": {},
   "outputs": [],
   "source": []
  }
 ],
 "metadata": {
  "kernelspec": {
   "display_name": ".venv",
   "language": "python",
   "name": "python3"
  },
  "language_info": {
   "codemirror_mode": {
    "name": "ipython",
    "version": 3
   },
   "file_extension": ".py",
   "mimetype": "text/x-python",
   "name": "python",
   "nbconvert_exporter": "python",
   "pygments_lexer": "ipython3",
   "version": "3.12.7"
  }
 },
 "nbformat": 4,
 "nbformat_minor": 2
}
