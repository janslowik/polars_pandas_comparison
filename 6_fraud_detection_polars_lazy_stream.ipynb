{
 "cells": [
  {
   "cell_type": "code",
   "execution_count": 3,
   "metadata": {},
   "outputs": [],
   "source": [
    "import polars as pl"
   ]
  },
  {
   "cell_type": "code",
   "execution_count": 14,
   "metadata": {},
   "outputs": [],
   "source": [
    "# data_path = './data/data_1mb.csv'\n",
    "# data_path = './data/data_1gb.csv'\n",
    "data_path = './data/data_10gb.csv'\n",
    "# data_path = './data/data_30gb.csv'"
   ]
  },
  {
   "cell_type": "code",
   "execution_count": 15,
   "metadata": {},
   "outputs": [],
   "source": [
    "# # eager\n",
    "# df = pl.read_csv(data_path)\n",
    "\n",
    "# # lazy v1\n",
    "# df = pl.read_csv(data_path).lazy()\n",
    "\n",
    "# # lazy v2\n",
    "df = pl.scan_csv(data_path)\n"
   ]
  },
  {
   "cell_type": "code",
   "execution_count": 16,
   "metadata": {},
   "outputs": [
    {
     "data": {
      "text/html": [
       "<div><style>\n",
       ".dataframe > thead > tr,\n",
       ".dataframe > tbody > tr {\n",
       "  text-align: right;\n",
       "  white-space: pre-wrap;\n",
       "}\n",
       "</style>\n",
       "<small>shape: (5, 8)</small><table border=\"1\" class=\"dataframe\"><thead><tr><th>user_id</th><th>timestamp</th><th>amount</th><th>currency</th><th>card_number</th><th>merchant</th><th>country</th><th>is_fraud</th></tr><tr><td>i64</td><td>str</td><td>f64</td><td>str</td><td>i64</td><td>str</td><td>str</td><td>bool</td></tr></thead><tbody><tr><td>6</td><td>&quot;2025-03-17T23:19:22.556261&quot;</td><td>1458.76</td><td>&quot;USD&quot;</td><td>6539162721261779</td><td>&quot;Thomas, Allen and Griffin&quot;</td><td>&quot;Philippines&quot;</td><td>false</td></tr><tr><td>243</td><td>&quot;2025-05-07T08:14:32.184651&quot;</td><td>514.1</td><td>&quot;USD&quot;</td><td>4311622618139486</td><td>&quot;Carlson-White&quot;</td><td>&quot;Papua New Guinea&quot;</td><td>false</td></tr><tr><td>79</td><td>&quot;2025-02-14T03:23:13.206927&quot;</td><td>1471.02</td><td>&quot;USD&quot;</td><td>375417705000324</td><td>&quot;Berg Inc&quot;</td><td>&quot;Seychelles&quot;</td><td>false</td></tr><tr><td>50</td><td>&quot;2025-01-08T20:39:46.516680&quot;</td><td>3076.68</td><td>&quot;USD&quot;</td><td>4578901718125613</td><td>&quot;Scott Ltd&quot;</td><td>&quot;Mauritania&quot;</td><td>false</td></tr><tr><td>706</td><td>&quot;2025-05-10T15:23:00.456036&quot;</td><td>1101.41</td><td>&quot;USD&quot;</td><td>4927482106655881</td><td>&quot;Montoya Ltd&quot;</td><td>&quot;Faroe Islands&quot;</td><td>false</td></tr></tbody></table></div>"
      ],
      "text/plain": [
       "shape: (5, 8)\n",
       "┌─────────┬──────────────┬─────────┬──────────┬─────────────┬─────────────┬─────────────┬──────────┐\n",
       "│ user_id ┆ timestamp    ┆ amount  ┆ currency ┆ card_number ┆ merchant    ┆ country     ┆ is_fraud │\n",
       "│ ---     ┆ ---          ┆ ---     ┆ ---      ┆ ---         ┆ ---         ┆ ---         ┆ ---      │\n",
       "│ i64     ┆ str          ┆ f64     ┆ str      ┆ i64         ┆ str         ┆ str         ┆ bool     │\n",
       "╞═════════╪══════════════╪═════════╪══════════╪═════════════╪═════════════╪═════════════╪══════════╡\n",
       "│ 6       ┆ 2025-03-17T2 ┆ 1458.76 ┆ USD      ┆ 65391627212 ┆ Thomas,     ┆ Philippines ┆ false    │\n",
       "│         ┆ 3:19:22.5562 ┆         ┆          ┆ 61779       ┆ Allen and   ┆             ┆          │\n",
       "│         ┆ 61           ┆         ┆          ┆             ┆ Griffin     ┆             ┆          │\n",
       "│ 243     ┆ 2025-05-07T0 ┆ 514.1   ┆ USD      ┆ 43116226181 ┆ Carlson-Whi ┆ Papua New   ┆ false    │\n",
       "│         ┆ 8:14:32.1846 ┆         ┆          ┆ 39486       ┆ te          ┆ Guinea      ┆          │\n",
       "│         ┆ 51           ┆         ┆          ┆             ┆             ┆             ┆          │\n",
       "│ 79      ┆ 2025-02-14T0 ┆ 1471.02 ┆ USD      ┆ 37541770500 ┆ Berg Inc    ┆ Seychelles  ┆ false    │\n",
       "│         ┆ 3:23:13.2069 ┆         ┆          ┆ 0324        ┆             ┆             ┆          │\n",
       "│         ┆ 27           ┆         ┆          ┆             ┆             ┆             ┆          │\n",
       "│ 50      ┆ 2025-01-08T2 ┆ 3076.68 ┆ USD      ┆ 45789017181 ┆ Scott Ltd   ┆ Mauritania  ┆ false    │\n",
       "│         ┆ 0:39:46.5166 ┆         ┆          ┆ 25613       ┆             ┆             ┆          │\n",
       "│         ┆ 80           ┆         ┆          ┆             ┆             ┆             ┆          │\n",
       "│ 706     ┆ 2025-05-10T1 ┆ 1101.41 ┆ USD      ┆ 49274821066 ┆ Montoya Ltd ┆ Faroe       ┆ false    │\n",
       "│         ┆ 5:23:00.4560 ┆         ┆          ┆ 55881       ┆             ┆ Islands     ┆          │\n",
       "│         ┆ 36           ┆         ┆          ┆             ┆             ┆             ┆          │\n",
       "└─────────┴──────────────┴─────────┴──────────┴─────────────┴─────────────┴─────────────┴──────────┘"
      ]
     },
     "execution_count": 16,
     "metadata": {},
     "output_type": "execute_result"
    }
   ],
   "source": [
    "# # eager\n",
    "# df.head()\n",
    "\n",
    "# lazy\n",
    "df.collect(engine='streaming').head()"
   ]
  },
  {
   "cell_type": "code",
   "execution_count": 17,
   "metadata": {},
   "outputs": [
    {
     "data": {
      "text/html": [
       "<div><style>\n",
       ".dataframe > thead > tr,\n",
       ".dataframe > tbody > tr {\n",
       "  text-align: right;\n",
       "  white-space: pre-wrap;\n",
       "}\n",
       "</style>\n",
       "<small>shape: (9, 9)</small><table border=\"1\" class=\"dataframe\"><thead><tr><th>statistic</th><th>user_id</th><th>timestamp</th><th>amount</th><th>currency</th><th>card_number</th><th>merchant</th><th>country</th><th>is_fraud</th></tr><tr><td>str</td><td>f64</td><td>str</td><td>f64</td><td>str</td><td>f64</td><td>str</td><td>str</td><td>f64</td></tr></thead><tbody><tr><td>&quot;count&quot;</td><td>1.20645148e8</td><td>&quot;120645148&quot;</td><td>1.20645148e8</td><td>&quot;120645148&quot;</td><td>1.20645148e8</td><td>&quot;120645148&quot;</td><td>&quot;120645148&quot;</td><td>1.20645148e8</td></tr><tr><td>&quot;null_count&quot;</td><td>0.0</td><td>&quot;0&quot;</td><td>0.0</td><td>&quot;0&quot;</td><td>0.0</td><td>&quot;0&quot;</td><td>&quot;0&quot;</td><td>0.0</td></tr><tr><td>&quot;mean&quot;</td><td>500.468378</td><td>null</td><td>2502.45388</td><td>null</td><td>3.7739e17</td><td>null</td><td>null</td><td>0.010016</td></tr><tr><td>&quot;std&quot;</td><td>288.685257</td><td>null</td><td>1441.992794</td><td>null</td><td>1.2462e18</td><td>null</td><td>null</td><td>null</td></tr><tr><td>&quot;min&quot;</td><td>1.0</td><td>&quot;2025-01-01T00:00:00.088689&quot;</td><td>5.0</td><td>&quot;USD&quot;</td><td>6.0400e10</td><td>&quot;Abbott Group&quot;</td><td>&quot;Afghanistan&quot;</td><td>0.0</td></tr><tr><td>&quot;25%&quot;</td><td>250.0</td><td>null</td><td>1253.68</td><td>null</td><td>3.8999e13</td><td>null</td><td>null</td><td>null</td></tr><tr><td>&quot;50%&quot;</td><td>500.0</td><td>null</td><td>2502.42</td><td>null</td><td>3.5125e15</td><td>null</td><td>null</td><td>null</td></tr><tr><td>&quot;75%&quot;</td><td>750.0</td><td>null</td><td>3751.2</td><td>null</td><td>4.6255e15</td><td>null</td><td>null</td><td>null</td></tr><tr><td>&quot;max&quot;</td><td>1000.0</td><td>&quot;2025-06-06T12:54:44.267270&quot;</td><td>5000.0</td><td>&quot;USD&quot;</td><td>5.0000e18</td><td>&quot;Zuniga-Zuniga&quot;</td><td>&quot;Zimbabwe&quot;</td><td>1.0</td></tr></tbody></table></div>"
      ],
      "text/plain": [
       "shape: (9, 9)\n",
       "┌───────────┬───────────┬───────────┬───────────┬───┬───────────┬───────────┬───────────┬──────────┐\n",
       "│ statistic ┆ user_id   ┆ timestamp ┆ amount    ┆ … ┆ card_numb ┆ merchant  ┆ country   ┆ is_fraud │\n",
       "│ ---       ┆ ---       ┆ ---       ┆ ---       ┆   ┆ er        ┆ ---       ┆ ---       ┆ ---      │\n",
       "│ str       ┆ f64       ┆ str       ┆ f64       ┆   ┆ ---       ┆ str       ┆ str       ┆ f64      │\n",
       "│           ┆           ┆           ┆           ┆   ┆ f64       ┆           ┆           ┆          │\n",
       "╞═══════════╪═══════════╪═══════════╪═══════════╪═══╪═══════════╪═══════════╪═══════════╪══════════╡\n",
       "│ count     ┆ 1.2064514 ┆ 120645148 ┆ 1.2064514 ┆ … ┆ 1.2064514 ┆ 120645148 ┆ 120645148 ┆ 1.206451 │\n",
       "│           ┆ 8e8       ┆           ┆ 8e8       ┆   ┆ 8e8       ┆           ┆           ┆ 48e8     │\n",
       "│ null_coun ┆ 0.0       ┆ 0         ┆ 0.0       ┆ … ┆ 0.0       ┆ 0         ┆ 0         ┆ 0.0      │\n",
       "│ t         ┆           ┆           ┆           ┆   ┆           ┆           ┆           ┆          │\n",
       "│ mean      ┆ 500.46837 ┆ null      ┆ 2502.4538 ┆ … ┆ 3.7739e17 ┆ null      ┆ null      ┆ 0.010016 │\n",
       "│           ┆ 8         ┆           ┆ 8         ┆   ┆           ┆           ┆           ┆          │\n",
       "│ std       ┆ 288.68525 ┆ null      ┆ 1441.9927 ┆ … ┆ 1.2462e18 ┆ null      ┆ null      ┆ null     │\n",
       "│           ┆ 7         ┆           ┆ 94        ┆   ┆           ┆           ┆           ┆          │\n",
       "│ min       ┆ 1.0       ┆ 2025-01-0 ┆ 5.0       ┆ … ┆ 6.0400e10 ┆ Abbott    ┆ Afghanist ┆ 0.0      │\n",
       "│           ┆           ┆ 1T00:00:0 ┆           ┆   ┆           ┆ Group     ┆ an        ┆          │\n",
       "│           ┆           ┆ 0.088689  ┆           ┆   ┆           ┆           ┆           ┆          │\n",
       "│ 25%       ┆ 250.0     ┆ null      ┆ 1253.68   ┆ … ┆ 3.8999e13 ┆ null      ┆ null      ┆ null     │\n",
       "│ 50%       ┆ 500.0     ┆ null      ┆ 2502.42   ┆ … ┆ 3.5125e15 ┆ null      ┆ null      ┆ null     │\n",
       "│ 75%       ┆ 750.0     ┆ null      ┆ 3751.2    ┆ … ┆ 4.6255e15 ┆ null      ┆ null      ┆ null     │\n",
       "│ max       ┆ 1000.0    ┆ 2025-06-0 ┆ 5000.0    ┆ … ┆ 5.0000e18 ┆ Zuniga-Zu ┆ Zimbabwe  ┆ 1.0      │\n",
       "│           ┆           ┆ 6T12:54:4 ┆           ┆   ┆           ┆ niga      ┆           ┆          │\n",
       "│           ┆           ┆ 4.267270  ┆           ┆   ┆           ┆           ┆           ┆          │\n",
       "└───────────┴───────────┴───────────┴───────────┴───┴───────────┴───────────┴───────────┴──────────┘"
      ]
     },
     "execution_count": 17,
     "metadata": {},
     "output_type": "execute_result"
    }
   ],
   "source": [
    "df.describe()"
   ]
  },
  {
   "cell_type": "code",
   "execution_count": 18,
   "metadata": {},
   "outputs": [
    {
     "data": {
      "text/plain": [
       "1000"
      ]
     },
     "execution_count": 18,
     "metadata": {},
     "output_type": "execute_result"
    }
   ],
   "source": [
    "# ile unikalnych userów?\n",
    "# # eager\n",
    "# df['user_id'].n_unique()\n",
    "\n",
    "# # lazy\n",
    "df.select('user_id').unique().collect().height"
   ]
  },
  {
   "cell_type": "code",
   "execution_count": 19,
   "metadata": {},
   "outputs": [
    {
     "data": {
      "text/html": [
       "<div><style>\n",
       ".dataframe > thead > tr,\n",
       ".dataframe > tbody > tr {\n",
       "  text-align: right;\n",
       "  white-space: pre-wrap;\n",
       "}\n",
       "</style>\n",
       "<small>shape: (27_308_714, 2)</small><table border=\"1\" class=\"dataframe\"><thead><tr><th>merchant</th><th>len</th></tr><tr><td>str</td><td>u32</td></tr></thead><tbody><tr><td>&quot;Williams Ltd&quot;</td><td>172212</td></tr><tr><td>&quot;Smith Group&quot;</td><td>165563</td></tr><tr><td>&quot;Smith PLC&quot;</td><td>164450</td></tr><tr><td>&quot;Smith LLC&quot;</td><td>164037</td></tr><tr><td>&quot;Smith Ltd&quot;</td><td>141550</td></tr><tr><td>&hellip;</td><td>&hellip;</td></tr><tr><td>&quot;Bright, Lynn and Hawkins&quot;</td><td>1</td></tr><tr><td>&quot;Mays, Young and Rodriguez&quot;</td><td>1</td></tr><tr><td>&quot;Jordan, Mccoy and Weaver&quot;</td><td>1</td></tr><tr><td>&quot;Sloan, Mendoza and Green&quot;</td><td>1</td></tr><tr><td>&quot;Henderson, Marshall and Miller&quot;</td><td>1</td></tr></tbody></table></div>"
      ],
      "text/plain": [
       "shape: (27_308_714, 2)\n",
       "┌────────────────────────────────┬────────┐\n",
       "│ merchant                       ┆ len    │\n",
       "│ ---                            ┆ ---    │\n",
       "│ str                            ┆ u32    │\n",
       "╞════════════════════════════════╪════════╡\n",
       "│ Williams Ltd                   ┆ 172212 │\n",
       "│ Smith Group                    ┆ 165563 │\n",
       "│ Smith PLC                      ┆ 164450 │\n",
       "│ Smith LLC                      ┆ 164037 │\n",
       "│ Smith Ltd                      ┆ 141550 │\n",
       "│ …                              ┆ …      │\n",
       "│ Bright, Lynn and Hawkins       ┆ 1      │\n",
       "│ Mays, Young and Rodriguez      ┆ 1      │\n",
       "│ Jordan, Mccoy and Weaver       ┆ 1      │\n",
       "│ Sloan, Mendoza and Green       ┆ 1      │\n",
       "│ Henderson, Marshall and Miller ┆ 1      │\n",
       "└────────────────────────────────┴────────┘"
      ]
     },
     "execution_count": 19,
     "metadata": {},
     "output_type": "execute_result"
    }
   ],
   "source": [
    "# popularnosc sprzedawcow\n",
    "\n",
    "# # eager\n",
    "# df.group_by(\"merchant\").count().sort(\"count\", descending=True)\n",
    "\n",
    "# lazy\n",
    "df.group_by(\"merchant\").len().sort(\"len\", descending=True).collect(engine=\"streaming\")"
   ]
  },
  {
   "cell_type": "code",
   "execution_count": 20,
   "metadata": {},
   "outputs": [],
   "source": [
    "# fraud detection\n",
    "\n",
    "# większość transakcji jednego usera jest z jednego kraju, \n",
    "# jako fraud bedziemy identyfikowali transakcje ktore są wykonane z innego kraju\n",
    "\n",
    "# Obliczamy liczbę transakcji dla każdej pary user-kraj\n",
    "user_country_counts = (\n",
    "    df.group_by(['user_id', 'country'])\n",
    "    .len()\n",
    "    .sort(['user_id', 'len'], descending=[False, True])\n",
    ")\n",
    "\n",
    "# Dla każdego usera bierzemy kraj z największą liczbą transakcji\n",
    "user_most_common_country = (\n",
    "    user_country_counts\n",
    "    .group_by('user_id')\n",
    "    .first()\n",
    "    .select(['user_id', 'country'])\n",
    "    .rename({'country': 'country_most_common'})\n",
    ")\n",
    "\n",
    "# Dodajemy kolumnę z najczęstszym krajem dla danego usera\n",
    "df_with_common_country = df.join(\n",
    "    user_most_common_country,\n",
    "    on='user_id'\n",
    ")\n",
    "\n",
    "# Flagujemy transakcje które są wykonane z innego kraju\n",
    "df_with_anomaly = df_with_common_country.with_columns(\n",
    "    (pl.col('country') != pl.col('country_most_common'))\n",
    "    .alias('is_country_anomaly')\n",
    ")\n",
    "\n",
    "# Show transactions that are potential fraud based on country anomaly\n",
    "country_anomaly_transactions = df_with_anomaly.filter(pl.col('is_country_anomaly'))"
   ]
  },
  {
   "cell_type": "code",
   "execution_count": 21,
   "metadata": {},
   "outputs": [
    {
     "data": {
      "text/html": [
       "<div><style>\n",
       ".dataframe > thead > tr,\n",
       ".dataframe > tbody > tr {\n",
       "  text-align: right;\n",
       "  white-space: pre-wrap;\n",
       "}\n",
       "</style>\n",
       "<small>shape: (1_203_460, 10)</small><table border=\"1\" class=\"dataframe\"><thead><tr><th>user_id</th><th>timestamp</th><th>amount</th><th>currency</th><th>card_number</th><th>merchant</th><th>country</th><th>is_fraud</th><th>country_most_common</th><th>is_country_anomaly</th></tr><tr><td>i64</td><td>str</td><td>f64</td><td>str</td><td>i64</td><td>str</td><td>str</td><td>bool</td><td>str</td><td>bool</td></tr></thead><tbody><tr><td>262</td><td>&quot;2025-02-20T12:07:07.662658&quot;</td><td>2960.24</td><td>&quot;USD&quot;</td><td>4664399222397213</td><td>&quot;James Inc&quot;</td><td>&quot;Reunion&quot;</td><td>true</td><td>&quot;Gambia&quot;</td><td>true</td></tr><tr><td>985</td><td>&quot;2025-02-10T20:33:25.946464&quot;</td><td>1636.84</td><td>&quot;USD&quot;</td><td>3513080311110411</td><td>&quot;Lewis Ltd&quot;</td><td>&quot;Bahamas&quot;</td><td>true</td><td>&quot;Germany&quot;</td><td>true</td></tr><tr><td>884</td><td>&quot;2025-05-07T07:38:56.092708&quot;</td><td>347.85</td><td>&quot;USD&quot;</td><td>6500112350486481</td><td>&quot;Hayes-Webb&quot;</td><td>&quot;Azerbaijan&quot;</td><td>true</td><td>&quot;Barbados&quot;</td><td>true</td></tr><tr><td>681</td><td>&quot;2025-05-23T18:11:50.944275&quot;</td><td>3559.32</td><td>&quot;USD&quot;</td><td>6557658487748617</td><td>&quot;Mcclain-Combs&quot;</td><td>&quot;Guadeloupe&quot;</td><td>true</td><td>&quot;Egypt&quot;</td><td>true</td></tr><tr><td>126</td><td>&quot;2025-03-31T09:03:45.910750&quot;</td><td>2775.67</td><td>&quot;USD&quot;</td><td>30440143499699</td><td>&quot;Roberts, Turner and Ingram&quot;</td><td>&quot;Christmas Island&quot;</td><td>true</td><td>&quot;Puerto Rico&quot;</td><td>true</td></tr><tr><td>&hellip;</td><td>&hellip;</td><td>&hellip;</td><td>&hellip;</td><td>&hellip;</td><td>&hellip;</td><td>&hellip;</td><td>&hellip;</td><td>&hellip;</td><td>&hellip;</td></tr><tr><td>556</td><td>&quot;2025-01-21T02:09:55.011446&quot;</td><td>3066.74</td><td>&quot;USD&quot;</td><td>4928245171226</td><td>&quot;Mccann Ltd&quot;</td><td>&quot;Russian Federation&quot;</td><td>true</td><td>&quot;Denmark&quot;</td><td>true</td></tr><tr><td>491</td><td>&quot;2025-06-02T17:51:39.684131&quot;</td><td>2675.44</td><td>&quot;USD&quot;</td><td>3502079101750041</td><td>&quot;Vasquez, George and Thomas&quot;</td><td>&quot;Croatia&quot;</td><td>true</td><td>&quot;Burundi&quot;</td><td>true</td></tr><tr><td>313</td><td>&quot;2025-05-23T20:11:57.735361&quot;</td><td>3266.15</td><td>&quot;USD&quot;</td><td>4029587536340396</td><td>&quot;Ferguson, Baker and Perez&quot;</td><td>&quot;Greece&quot;</td><td>true</td><td>&quot;Spain&quot;</td><td>true</td></tr><tr><td>313</td><td>&quot;2025-02-28T02:54:42.699105&quot;</td><td>4677.01</td><td>&quot;USD&quot;</td><td>6558889249662387</td><td>&quot;Clark, Hickman and Shaw&quot;</td><td>&quot;Sudan&quot;</td><td>true</td><td>&quot;Spain&quot;</td><td>true</td></tr><tr><td>851</td><td>&quot;2025-05-30T18:55:08.492843&quot;</td><td>4361.47</td><td>&quot;USD&quot;</td><td>4724564747578658</td><td>&quot;Brady-Taylor&quot;</td><td>&quot;Vanuatu&quot;</td><td>true</td><td>&quot;Azerbaijan&quot;</td><td>true</td></tr></tbody></table></div>"
      ],
      "text/plain": [
       "shape: (1_203_460, 10)\n",
       "┌─────────┬─────────────┬─────────┬──────────┬───┬────────────┬──────────┬────────────┬────────────┐\n",
       "│ user_id ┆ timestamp   ┆ amount  ┆ currency ┆ … ┆ country    ┆ is_fraud ┆ country_mo ┆ is_country │\n",
       "│ ---     ┆ ---         ┆ ---     ┆ ---      ┆   ┆ ---        ┆ ---      ┆ st_common  ┆ _anomaly   │\n",
       "│ i64     ┆ str         ┆ f64     ┆ str      ┆   ┆ str        ┆ bool     ┆ ---        ┆ ---        │\n",
       "│         ┆             ┆         ┆          ┆   ┆            ┆          ┆ str        ┆ bool       │\n",
       "╞═════════╪═════════════╪═════════╪══════════╪═══╪════════════╪══════════╪════════════╪════════════╡\n",
       "│ 262     ┆ 2025-02-20T ┆ 2960.24 ┆ USD      ┆ … ┆ Reunion    ┆ true     ┆ Gambia     ┆ true       │\n",
       "│         ┆ 12:07:07.66 ┆         ┆          ┆   ┆            ┆          ┆            ┆            │\n",
       "│         ┆ 2658        ┆         ┆          ┆   ┆            ┆          ┆            ┆            │\n",
       "│ 985     ┆ 2025-02-10T ┆ 1636.84 ┆ USD      ┆ … ┆ Bahamas    ┆ true     ┆ Germany    ┆ true       │\n",
       "│         ┆ 20:33:25.94 ┆         ┆          ┆   ┆            ┆          ┆            ┆            │\n",
       "│         ┆ 6464        ┆         ┆          ┆   ┆            ┆          ┆            ┆            │\n",
       "│ 884     ┆ 2025-05-07T ┆ 347.85  ┆ USD      ┆ … ┆ Azerbaijan ┆ true     ┆ Barbados   ┆ true       │\n",
       "│         ┆ 07:38:56.09 ┆         ┆          ┆   ┆            ┆          ┆            ┆            │\n",
       "│         ┆ 2708        ┆         ┆          ┆   ┆            ┆          ┆            ┆            │\n",
       "│ 681     ┆ 2025-05-23T ┆ 3559.32 ┆ USD      ┆ … ┆ Guadeloupe ┆ true     ┆ Egypt      ┆ true       │\n",
       "│         ┆ 18:11:50.94 ┆         ┆          ┆   ┆            ┆          ┆            ┆            │\n",
       "│         ┆ 4275        ┆         ┆          ┆   ┆            ┆          ┆            ┆            │\n",
       "│ 126     ┆ 2025-03-31T ┆ 2775.67 ┆ USD      ┆ … ┆ Christmas  ┆ true     ┆ Puerto     ┆ true       │\n",
       "│         ┆ 09:03:45.91 ┆         ┆          ┆   ┆ Island     ┆          ┆ Rico       ┆            │\n",
       "│         ┆ 0750        ┆         ┆          ┆   ┆            ┆          ┆            ┆            │\n",
       "│ …       ┆ …           ┆ …       ┆ …        ┆ … ┆ …          ┆ …        ┆ …          ┆ …          │\n",
       "│ 556     ┆ 2025-01-21T ┆ 3066.74 ┆ USD      ┆ … ┆ Russian    ┆ true     ┆ Denmark    ┆ true       │\n",
       "│         ┆ 02:09:55.01 ┆         ┆          ┆   ┆ Federation ┆          ┆            ┆            │\n",
       "│         ┆ 1446        ┆         ┆          ┆   ┆            ┆          ┆            ┆            │\n",
       "│ 491     ┆ 2025-06-02T ┆ 2675.44 ┆ USD      ┆ … ┆ Croatia    ┆ true     ┆ Burundi    ┆ true       │\n",
       "│         ┆ 17:51:39.68 ┆         ┆          ┆   ┆            ┆          ┆            ┆            │\n",
       "│         ┆ 4131        ┆         ┆          ┆   ┆            ┆          ┆            ┆            │\n",
       "│ 313     ┆ 2025-05-23T ┆ 3266.15 ┆ USD      ┆ … ┆ Greece     ┆ true     ┆ Spain      ┆ true       │\n",
       "│         ┆ 20:11:57.73 ┆         ┆          ┆   ┆            ┆          ┆            ┆            │\n",
       "│         ┆ 5361        ┆         ┆          ┆   ┆            ┆          ┆            ┆            │\n",
       "│ 313     ┆ 2025-02-28T ┆ 4677.01 ┆ USD      ┆ … ┆ Sudan      ┆ true     ┆ Spain      ┆ true       │\n",
       "│         ┆ 02:54:42.69 ┆         ┆          ┆   ┆            ┆          ┆            ┆            │\n",
       "│         ┆ 9105        ┆         ┆          ┆   ┆            ┆          ┆            ┆            │\n",
       "│ 851     ┆ 2025-05-30T ┆ 4361.47 ┆ USD      ┆ … ┆ Vanuatu    ┆ true     ┆ Azerbaijan ┆ true       │\n",
       "│         ┆ 18:55:08.49 ┆         ┆          ┆   ┆            ┆          ┆            ┆            │\n",
       "│         ┆ 2843        ┆         ┆          ┆   ┆            ┆          ┆            ┆            │\n",
       "└─────────┴─────────────┴─────────┴──────────┴───┴────────────┴──────────┴────────────┴────────────┘"
      ]
     },
     "execution_count": 21,
     "metadata": {},
     "output_type": "execute_result"
    }
   ],
   "source": [
    "# #eager\n",
    "# country_anomaly_transactions\n",
    "\n",
    "# lazy\n",
    "country_anomaly_transactions.collect(engine=\"streaming\")"
   ]
  },
  {
   "cell_type": "code",
   "execution_count": 23,
   "metadata": {},
   "outputs": [
    {
     "name": "stdout",
     "output_type": "stream",
     "text": [
      "FILTER col(\"is_country_anomaly\")\n",
      "FROM\n",
      "   WITH_COLUMNS:\n",
      "   [[(col(\"country\")) != (col(\"country_most_common\"))].alias(\"is_country_anomaly\")] \n",
      "    INNER JOIN:\n",
      "    LEFT PLAN ON: [col(\"user_id\")]\n",
      "      CACHE[id: 0, cache_hits: 1]\n",
      "        simple π 8/8 [\"user_id\", \"timestamp\", ... 6 other columns]\n",
      "          Csv SCAN [./data/data_10gb.csv] [id: 5029268000]\n",
      "          PROJECT 8/8 COLUMNS\n",
      "    RIGHT PLAN ON: [col(\"user_id\")]\n",
      "      RENAME\n",
      "        AGGREGATE[maintain_order: false]\n",
      "          [col(\"country\").first()] BY [col(\"user_id\")]\n",
      "          FROM\n",
      "          SORT BY [col(\"user_id\"), col(\"len\")]\n",
      "            AGGREGATE[maintain_order: false]\n",
      "              [len()] BY [col(\"user_id\"), col(\"country\")]\n",
      "              FROM\n",
      "              simple π 2/2 [\"user_id\", \"country\"]\n",
      "                CACHE[id: 0, cache_hits: 1]\n",
      "                  simple π 8/8 [\"user_id\", \"timestamp\", ... 6 other columns]\n",
      "                    Csv SCAN [./data/data_10gb.csv] [id: 5029268000]\n",
      "                    PROJECT 8/8 COLUMNS\n",
      "    END INNER JOIN\n"
     ]
    }
   ],
   "source": [
    "print(country_anomaly_transactions.explain(engine=\"streaming\"))"
   ]
  },
  {
   "cell_type": "code",
   "execution_count": 13,
   "metadata": {},
   "outputs": [
    {
     "data": {
      "text/plain": [
       "0.9962551963798462"
      ]
     },
     "execution_count": 13,
     "metadata": {},
     "output_type": "execute_result"
    }
   ],
   "source": [
    "# # eager\n",
    "# len(country_anomaly_transactions) / len(df) * 100.0\n",
    "\n",
    "# lazy\n",
    "country_anomaly_transactions.select(pl.len()).collect(engine=\"streaming\").item() / df.select(pl.len()).collect(engine=\"streaming\").item() * 100.0"
   ]
  },
  {
   "cell_type": "code",
   "execution_count": null,
   "metadata": {},
   "outputs": [],
   "source": []
  }
 ],
 "metadata": {
  "kernelspec": {
   "display_name": ".venv",
   "language": "python",
   "name": "python3"
  },
  "language_info": {
   "codemirror_mode": {
    "name": "ipython",
    "version": 3
   },
   "file_extension": ".py",
   "mimetype": "text/x-python",
   "name": "python",
   "nbconvert_exporter": "python",
   "pygments_lexer": "ipython3",
   "version": "3.12.10"
  }
 },
 "nbformat": 4,
 "nbformat_minor": 2
}
