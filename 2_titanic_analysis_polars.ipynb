{
 "cells": [
  {
   "cell_type": "markdown",
   "id": "14c0465e",
   "metadata": {},
   "source": [
    "# import"
   ]
  },
  {
   "cell_type": "code",
   "execution_count": 36,
   "id": "06f75c70",
   "metadata": {},
   "outputs": [],
   "source": [
    "# import pandas as pd\n",
    "import polars as pl"
   ]
  },
  {
   "cell_type": "markdown",
   "id": "2b886e6d",
   "metadata": {},
   "source": [
    "# wczytanie danych z csv"
   ]
  },
  {
   "cell_type": "code",
   "execution_count": 37,
   "id": "8fa704cf",
   "metadata": {},
   "outputs": [],
   "source": [
    "# df = pd.read_csv(\"./data/titanic.csv\")\n",
    "\n",
    "df = pl.read_csv(\"./data/titanic.csv\")\n"
   ]
  },
  {
   "cell_type": "markdown",
   "id": "b588c1b5",
   "metadata": {},
   "source": [
    "# wyswietlanie dataframe"
   ]
  },
  {
   "cell_type": "code",
   "execution_count": 38,
   "id": "1b820526",
   "metadata": {},
   "outputs": [
    {
     "data": {
      "text/html": [
       "<div><style>\n",
       ".dataframe > thead > tr,\n",
       ".dataframe > tbody > tr {\n",
       "  text-align: right;\n",
       "  white-space: pre-wrap;\n",
       "}\n",
       "</style>\n",
       "<small>shape: (5, 12)</small><table border=\"1\" class=\"dataframe\"><thead><tr><th>PassengerId</th><th>Survived</th><th>Pclass</th><th>Name</th><th>Sex</th><th>Age</th><th>SibSp</th><th>Parch</th><th>Ticket</th><th>Fare</th><th>Cabin</th><th>Embarked</th></tr><tr><td>i64</td><td>i64</td><td>i64</td><td>str</td><td>str</td><td>f64</td><td>i64</td><td>i64</td><td>str</td><td>f64</td><td>str</td><td>str</td></tr></thead><tbody><tr><td>1</td><td>0</td><td>3</td><td>&quot;Braund, Mr. Owen Harris&quot;</td><td>&quot;male&quot;</td><td>22.0</td><td>1</td><td>0</td><td>&quot;A/5 21171&quot;</td><td>7.25</td><td>null</td><td>&quot;S&quot;</td></tr><tr><td>2</td><td>1</td><td>1</td><td>&quot;Cumings, Mrs. John Bradley (Fl…</td><td>&quot;female&quot;</td><td>38.0</td><td>1</td><td>0</td><td>&quot;PC 17599&quot;</td><td>71.2833</td><td>&quot;C85&quot;</td><td>&quot;C&quot;</td></tr><tr><td>3</td><td>1</td><td>3</td><td>&quot;Heikkinen, Miss. Laina&quot;</td><td>&quot;female&quot;</td><td>26.0</td><td>0</td><td>0</td><td>&quot;STON/O2. 3101282&quot;</td><td>7.925</td><td>null</td><td>&quot;S&quot;</td></tr><tr><td>4</td><td>1</td><td>1</td><td>&quot;Futrelle, Mrs. Jacques Heath (…</td><td>&quot;female&quot;</td><td>35.0</td><td>1</td><td>0</td><td>&quot;113803&quot;</td><td>53.1</td><td>&quot;C123&quot;</td><td>&quot;S&quot;</td></tr><tr><td>5</td><td>0</td><td>3</td><td>&quot;Allen, Mr. William Henry&quot;</td><td>&quot;male&quot;</td><td>35.0</td><td>0</td><td>0</td><td>&quot;373450&quot;</td><td>8.05</td><td>null</td><td>&quot;S&quot;</td></tr></tbody></table></div>"
      ],
      "text/plain": [
       "shape: (5, 12)\n",
       "┌─────────────┬──────────┬────────┬───────────────────┬───┬───────────┬─────────┬───────┬──────────┐\n",
       "│ PassengerId ┆ Survived ┆ Pclass ┆ Name              ┆ … ┆ Ticket    ┆ Fare    ┆ Cabin ┆ Embarked │\n",
       "│ ---         ┆ ---      ┆ ---    ┆ ---               ┆   ┆ ---       ┆ ---     ┆ ---   ┆ ---      │\n",
       "│ i64         ┆ i64      ┆ i64    ┆ str               ┆   ┆ str       ┆ f64     ┆ str   ┆ str      │\n",
       "╞═════════════╪══════════╪════════╪═══════════════════╪═══╪═══════════╪═════════╪═══════╪══════════╡\n",
       "│ 1           ┆ 0        ┆ 3      ┆ Braund, Mr. Owen  ┆ … ┆ A/5 21171 ┆ 7.25    ┆ null  ┆ S        │\n",
       "│             ┆          ┆        ┆ Harris            ┆   ┆           ┆         ┆       ┆          │\n",
       "│ 2           ┆ 1        ┆ 1      ┆ Cumings, Mrs.     ┆ … ┆ PC 17599  ┆ 71.2833 ┆ C85   ┆ C        │\n",
       "│             ┆          ┆        ┆ John Bradley (Fl… ┆   ┆           ┆         ┆       ┆          │\n",
       "│ 3           ┆ 1        ┆ 3      ┆ Heikkinen, Miss.  ┆ … ┆ STON/O2.  ┆ 7.925   ┆ null  ┆ S        │\n",
       "│             ┆          ┆        ┆ Laina             ┆   ┆ 3101282   ┆         ┆       ┆          │\n",
       "│ 4           ┆ 1        ┆ 1      ┆ Futrelle, Mrs.    ┆ … ┆ 113803    ┆ 53.1    ┆ C123  ┆ S        │\n",
       "│             ┆          ┆        ┆ Jacques Heath (…  ┆   ┆           ┆         ┆       ┆          │\n",
       "│ 5           ┆ 0        ┆ 3      ┆ Allen, Mr.        ┆ … ┆ 373450    ┆ 8.05    ┆ null  ┆ S        │\n",
       "│             ┆          ┆        ┆ William Henry     ┆   ┆           ┆         ┆       ┆          │\n",
       "└─────────────┴──────────┴────────┴───────────────────┴───┴───────────┴─────────┴───────┴──────────┘"
      ]
     },
     "execution_count": 38,
     "metadata": {},
     "output_type": "execute_result"
    }
   ],
   "source": [
    "df.head()"
   ]
  },
  {
   "cell_type": "markdown",
   "id": "95ec46ff",
   "metadata": {},
   "source": [
    "# szybki rzut oka w dane"
   ]
  },
  {
   "cell_type": "code",
   "execution_count": 39,
   "id": "ec87f123",
   "metadata": {},
   "outputs": [
    {
     "data": {
      "text/html": [
       "<div><style>\n",
       ".dataframe > thead > tr,\n",
       ".dataframe > tbody > tr {\n",
       "  text-align: right;\n",
       "  white-space: pre-wrap;\n",
       "}\n",
       "</style>\n",
       "<small>shape: (9, 13)</small><table border=\"1\" class=\"dataframe\"><thead><tr><th>statistic</th><th>PassengerId</th><th>Survived</th><th>Pclass</th><th>Name</th><th>Sex</th><th>Age</th><th>SibSp</th><th>Parch</th><th>Ticket</th><th>Fare</th><th>Cabin</th><th>Embarked</th></tr><tr><td>str</td><td>f64</td><td>f64</td><td>f64</td><td>str</td><td>str</td><td>f64</td><td>f64</td><td>f64</td><td>str</td><td>f64</td><td>str</td><td>str</td></tr></thead><tbody><tr><td>&quot;count&quot;</td><td>891.0</td><td>891.0</td><td>891.0</td><td>&quot;891&quot;</td><td>&quot;891&quot;</td><td>714.0</td><td>891.0</td><td>891.0</td><td>&quot;891&quot;</td><td>891.0</td><td>&quot;204&quot;</td><td>&quot;889&quot;</td></tr><tr><td>&quot;null_count&quot;</td><td>0.0</td><td>0.0</td><td>0.0</td><td>&quot;0&quot;</td><td>&quot;0&quot;</td><td>177.0</td><td>0.0</td><td>0.0</td><td>&quot;0&quot;</td><td>0.0</td><td>&quot;687&quot;</td><td>&quot;2&quot;</td></tr><tr><td>&quot;mean&quot;</td><td>446.0</td><td>0.383838</td><td>2.308642</td><td>null</td><td>null</td><td>29.699118</td><td>0.523008</td><td>0.381594</td><td>null</td><td>32.204208</td><td>null</td><td>null</td></tr><tr><td>&quot;std&quot;</td><td>257.353842</td><td>0.486592</td><td>0.836071</td><td>null</td><td>null</td><td>14.526497</td><td>1.102743</td><td>0.806057</td><td>null</td><td>49.693429</td><td>null</td><td>null</td></tr><tr><td>&quot;min&quot;</td><td>1.0</td><td>0.0</td><td>1.0</td><td>&quot;Abbing, Mr. Anthony&quot;</td><td>&quot;female&quot;</td><td>0.42</td><td>0.0</td><td>0.0</td><td>&quot;110152&quot;</td><td>0.0</td><td>&quot;A10&quot;</td><td>&quot;C&quot;</td></tr><tr><td>&quot;25%&quot;</td><td>224.0</td><td>0.0</td><td>2.0</td><td>null</td><td>null</td><td>20.0</td><td>0.0</td><td>0.0</td><td>null</td><td>7.925</td><td>null</td><td>null</td></tr><tr><td>&quot;50%&quot;</td><td>446.0</td><td>0.0</td><td>3.0</td><td>null</td><td>null</td><td>28.0</td><td>0.0</td><td>0.0</td><td>null</td><td>14.4542</td><td>null</td><td>null</td></tr><tr><td>&quot;75%&quot;</td><td>669.0</td><td>1.0</td><td>3.0</td><td>null</td><td>null</td><td>38.0</td><td>1.0</td><td>0.0</td><td>null</td><td>31.0</td><td>null</td><td>null</td></tr><tr><td>&quot;max&quot;</td><td>891.0</td><td>1.0</td><td>3.0</td><td>&quot;van Melkebeke, Mr. Philemon&quot;</td><td>&quot;male&quot;</td><td>80.0</td><td>8.0</td><td>6.0</td><td>&quot;WE/P 5735&quot;</td><td>512.3292</td><td>&quot;T&quot;</td><td>&quot;S&quot;</td></tr></tbody></table></div>"
      ],
      "text/plain": [
       "shape: (9, 13)\n",
       "┌────────────┬─────────────┬──────────┬──────────┬───┬───────────┬───────────┬───────┬──────────┐\n",
       "│ statistic  ┆ PassengerId ┆ Survived ┆ Pclass   ┆ … ┆ Ticket    ┆ Fare      ┆ Cabin ┆ Embarked │\n",
       "│ ---        ┆ ---         ┆ ---      ┆ ---      ┆   ┆ ---       ┆ ---       ┆ ---   ┆ ---      │\n",
       "│ str        ┆ f64         ┆ f64      ┆ f64      ┆   ┆ str       ┆ f64       ┆ str   ┆ str      │\n",
       "╞════════════╪═════════════╪══════════╪══════════╪═══╪═══════════╪═══════════╪═══════╪══════════╡\n",
       "│ count      ┆ 891.0       ┆ 891.0    ┆ 891.0    ┆ … ┆ 891       ┆ 891.0     ┆ 204   ┆ 889      │\n",
       "│ null_count ┆ 0.0         ┆ 0.0      ┆ 0.0      ┆ … ┆ 0         ┆ 0.0       ┆ 687   ┆ 2        │\n",
       "│ mean       ┆ 446.0       ┆ 0.383838 ┆ 2.308642 ┆ … ┆ null      ┆ 32.204208 ┆ null  ┆ null     │\n",
       "│ std        ┆ 257.353842  ┆ 0.486592 ┆ 0.836071 ┆ … ┆ null      ┆ 49.693429 ┆ null  ┆ null     │\n",
       "│ min        ┆ 1.0         ┆ 0.0      ┆ 1.0      ┆ … ┆ 110152    ┆ 0.0       ┆ A10   ┆ C        │\n",
       "│ 25%        ┆ 224.0       ┆ 0.0      ┆ 2.0      ┆ … ┆ null      ┆ 7.925     ┆ null  ┆ null     │\n",
       "│ 50%        ┆ 446.0       ┆ 0.0      ┆ 3.0      ┆ … ┆ null      ┆ 14.4542   ┆ null  ┆ null     │\n",
       "│ 75%        ┆ 669.0       ┆ 1.0      ┆ 3.0      ┆ … ┆ null      ┆ 31.0      ┆ null  ┆ null     │\n",
       "│ max        ┆ 891.0       ┆ 1.0      ┆ 3.0      ┆ … ┆ WE/P 5735 ┆ 512.3292  ┆ T     ┆ S        │\n",
       "└────────────┴─────────────┴──────────┴──────────┴───┴───────────┴───────────┴───────┴──────────┘"
      ]
     },
     "execution_count": 39,
     "metadata": {},
     "output_type": "execute_result"
    }
   ],
   "source": [
    "df.describe()"
   ]
  },
  {
   "cell_type": "markdown",
   "id": "b79817a8",
   "metadata": {},
   "source": [
    "# filtrowanie"
   ]
  },
  {
   "cell_type": "code",
   "execution_count": 40,
   "id": "07110656",
   "metadata": {},
   "outputs": [
    {
     "data": {
      "text/html": [
       "<div><style>\n",
       ".dataframe > thead > tr,\n",
       ".dataframe > tbody > tr {\n",
       "  text-align: right;\n",
       "  white-space: pre-wrap;\n",
       "}\n",
       "</style>\n",
       "<small>shape: (305, 12)</small><table border=\"1\" class=\"dataframe\"><thead><tr><th>PassengerId</th><th>Survived</th><th>Pclass</th><th>Name</th><th>Sex</th><th>Age</th><th>SibSp</th><th>Parch</th><th>Ticket</th><th>Fare</th><th>Cabin</th><th>Embarked</th></tr><tr><td>i64</td><td>i64</td><td>i64</td><td>str</td><td>str</td><td>f64</td><td>i64</td><td>i64</td><td>str</td><td>f64</td><td>str</td><td>str</td></tr></thead><tbody><tr><td>2</td><td>1</td><td>1</td><td>&quot;Cumings, Mrs. John Bradley (Fl…</td><td>&quot;female&quot;</td><td>38.0</td><td>1</td><td>0</td><td>&quot;PC 17599&quot;</td><td>71.2833</td><td>&quot;C85&quot;</td><td>&quot;C&quot;</td></tr><tr><td>4</td><td>1</td><td>1</td><td>&quot;Futrelle, Mrs. Jacques Heath (…</td><td>&quot;female&quot;</td><td>35.0</td><td>1</td><td>0</td><td>&quot;113803&quot;</td><td>53.1</td><td>&quot;C123&quot;</td><td>&quot;S&quot;</td></tr><tr><td>5</td><td>0</td><td>3</td><td>&quot;Allen, Mr. William Henry&quot;</td><td>&quot;male&quot;</td><td>35.0</td><td>0</td><td>0</td><td>&quot;373450&quot;</td><td>8.05</td><td>null</td><td>&quot;S&quot;</td></tr><tr><td>7</td><td>0</td><td>1</td><td>&quot;McCarthy, Mr. Timothy J&quot;</td><td>&quot;male&quot;</td><td>54.0</td><td>0</td><td>0</td><td>&quot;17463&quot;</td><td>51.8625</td><td>&quot;E46&quot;</td><td>&quot;S&quot;</td></tr><tr><td>12</td><td>1</td><td>1</td><td>&quot;Bonnell, Miss. Elizabeth&quot;</td><td>&quot;female&quot;</td><td>58.0</td><td>0</td><td>0</td><td>&quot;113783&quot;</td><td>26.55</td><td>&quot;C103&quot;</td><td>&quot;S&quot;</td></tr><tr><td>&hellip;</td><td>&hellip;</td><td>&hellip;</td><td>&hellip;</td><td>&hellip;</td><td>&hellip;</td><td>&hellip;</td><td>&hellip;</td><td>&hellip;</td><td>&hellip;</td><td>&hellip;</td><td>&hellip;</td></tr><tr><td>874</td><td>0</td><td>3</td><td>&quot;Vander Cruyssen, Mr. Victor&quot;</td><td>&quot;male&quot;</td><td>47.0</td><td>0</td><td>0</td><td>&quot;345765&quot;</td><td>9.0</td><td>null</td><td>&quot;S&quot;</td></tr><tr><td>880</td><td>1</td><td>1</td><td>&quot;Potter, Mrs. Thomas Jr (Lily A…</td><td>&quot;female&quot;</td><td>56.0</td><td>0</td><td>1</td><td>&quot;11767&quot;</td><td>83.1583</td><td>&quot;C50&quot;</td><td>&quot;C&quot;</td></tr><tr><td>882</td><td>0</td><td>3</td><td>&quot;Markun, Mr. Johann&quot;</td><td>&quot;male&quot;</td><td>33.0</td><td>0</td><td>0</td><td>&quot;349257&quot;</td><td>7.8958</td><td>null</td><td>&quot;S&quot;</td></tr><tr><td>886</td><td>0</td><td>3</td><td>&quot;Rice, Mrs. William (Margaret N…</td><td>&quot;female&quot;</td><td>39.0</td><td>0</td><td>5</td><td>&quot;382652&quot;</td><td>29.125</td><td>null</td><td>&quot;Q&quot;</td></tr><tr><td>891</td><td>0</td><td>3</td><td>&quot;Dooley, Mr. Patrick&quot;</td><td>&quot;male&quot;</td><td>32.0</td><td>0</td><td>0</td><td>&quot;370376&quot;</td><td>7.75</td><td>null</td><td>&quot;Q&quot;</td></tr></tbody></table></div>"
      ],
      "text/plain": [
       "shape: (305, 12)\n",
       "┌─────────────┬──────────┬────────┬────────────────────┬───┬──────────┬─────────┬───────┬──────────┐\n",
       "│ PassengerId ┆ Survived ┆ Pclass ┆ Name               ┆ … ┆ Ticket   ┆ Fare    ┆ Cabin ┆ Embarked │\n",
       "│ ---         ┆ ---      ┆ ---    ┆ ---                ┆   ┆ ---      ┆ ---     ┆ ---   ┆ ---      │\n",
       "│ i64         ┆ i64      ┆ i64    ┆ str                ┆   ┆ str      ┆ f64     ┆ str   ┆ str      │\n",
       "╞═════════════╪══════════╪════════╪════════════════════╪═══╪══════════╪═════════╪═══════╪══════════╡\n",
       "│ 2           ┆ 1        ┆ 1      ┆ Cumings, Mrs. John ┆ … ┆ PC 17599 ┆ 71.2833 ┆ C85   ┆ C        │\n",
       "│             ┆          ┆        ┆ Bradley (Fl…       ┆   ┆          ┆         ┆       ┆          │\n",
       "│ 4           ┆ 1        ┆ 1      ┆ Futrelle, Mrs.     ┆ … ┆ 113803   ┆ 53.1    ┆ C123  ┆ S        │\n",
       "│             ┆          ┆        ┆ Jacques Heath (…   ┆   ┆          ┆         ┆       ┆          │\n",
       "│ 5           ┆ 0        ┆ 3      ┆ Allen, Mr. William ┆ … ┆ 373450   ┆ 8.05    ┆ null  ┆ S        │\n",
       "│             ┆          ┆        ┆ Henry              ┆   ┆          ┆         ┆       ┆          │\n",
       "│ 7           ┆ 0        ┆ 1      ┆ McCarthy, Mr.      ┆ … ┆ 17463    ┆ 51.8625 ┆ E46   ┆ S        │\n",
       "│             ┆          ┆        ┆ Timothy J          ┆   ┆          ┆         ┆       ┆          │\n",
       "│ 12          ┆ 1        ┆ 1      ┆ Bonnell, Miss.     ┆ … ┆ 113783   ┆ 26.55   ┆ C103  ┆ S        │\n",
       "│             ┆          ┆        ┆ Elizabeth          ┆   ┆          ┆         ┆       ┆          │\n",
       "│ …           ┆ …        ┆ …      ┆ …                  ┆ … ┆ …        ┆ …       ┆ …     ┆ …        │\n",
       "│ 874         ┆ 0        ┆ 3      ┆ Vander Cruyssen,   ┆ … ┆ 345765   ┆ 9.0     ┆ null  ┆ S        │\n",
       "│             ┆          ┆        ┆ Mr. Victor         ┆   ┆          ┆         ┆       ┆          │\n",
       "│ 880         ┆ 1        ┆ 1      ┆ Potter, Mrs.       ┆ … ┆ 11767    ┆ 83.1583 ┆ C50   ┆ C        │\n",
       "│             ┆          ┆        ┆ Thomas Jr (Lily A… ┆   ┆          ┆         ┆       ┆          │\n",
       "│ 882         ┆ 0        ┆ 3      ┆ Markun, Mr. Johann ┆ … ┆ 349257   ┆ 7.8958  ┆ null  ┆ S        │\n",
       "│ 886         ┆ 0        ┆ 3      ┆ Rice, Mrs. William ┆ … ┆ 382652   ┆ 29.125  ┆ null  ┆ Q        │\n",
       "│             ┆          ┆        ┆ (Margaret N…       ┆   ┆          ┆         ┆       ┆          │\n",
       "│ 891         ┆ 0        ┆ 3      ┆ Dooley, Mr.        ┆ … ┆ 370376   ┆ 7.75    ┆ null  ┆ Q        │\n",
       "│             ┆          ┆        ┆ Patrick            ┆   ┆          ┆         ┆       ┆          │\n",
       "└─────────────┴──────────┴────────┴────────────────────┴───┴──────────┴─────────┴───────┴──────────┘"
      ]
     },
     "execution_count": 40,
     "metadata": {},
     "output_type": "execute_result"
    }
   ],
   "source": [
    "# Pasażerowie powyżej 30 roku życia\n",
    "\n",
    "# df[df['Age'] > 30] # pandas\n",
    "\n",
    "df.filter(pl.col('Age') > 30)"
   ]
  },
  {
   "cell_type": "code",
   "execution_count": 41,
   "id": "63b067fb",
   "metadata": {},
   "outputs": [
    {
     "data": {
      "text/html": [
       "<div><style>\n",
       ".dataframe > thead > tr,\n",
       ".dataframe > tbody > tr {\n",
       "  text-align: right;\n",
       "  white-space: pre-wrap;\n",
       "}\n",
       "</style>\n",
       "<small>shape: (91, 12)</small><table border=\"1\" class=\"dataframe\"><thead><tr><th>PassengerId</th><th>Survived</th><th>Pclass</th><th>Name</th><th>Sex</th><th>Age</th><th>SibSp</th><th>Parch</th><th>Ticket</th><th>Fare</th><th>Cabin</th><th>Embarked</th></tr><tr><td>i64</td><td>i64</td><td>i64</td><td>str</td><td>str</td><td>f64</td><td>i64</td><td>i64</td><td>str</td><td>f64</td><td>str</td><td>str</td></tr></thead><tbody><tr><td>2</td><td>1</td><td>1</td><td>&quot;Cumings, Mrs. John Bradley (Fl…</td><td>&quot;female&quot;</td><td>38.0</td><td>1</td><td>0</td><td>&quot;PC 17599&quot;</td><td>71.2833</td><td>&quot;C85&quot;</td><td>&quot;C&quot;</td></tr><tr><td>4</td><td>1</td><td>1</td><td>&quot;Futrelle, Mrs. Jacques Heath (…</td><td>&quot;female&quot;</td><td>35.0</td><td>1</td><td>0</td><td>&quot;113803&quot;</td><td>53.1</td><td>&quot;C123&quot;</td><td>&quot;S&quot;</td></tr><tr><td>12</td><td>1</td><td>1</td><td>&quot;Bonnell, Miss. Elizabeth&quot;</td><td>&quot;female&quot;</td><td>58.0</td><td>0</td><td>0</td><td>&quot;113783&quot;</td><td>26.55</td><td>&quot;C103&quot;</td><td>&quot;S&quot;</td></tr><tr><td>32</td><td>1</td><td>1</td><td>&quot;Spencer, Mrs. William Augustus…</td><td>&quot;female&quot;</td><td>null</td><td>1</td><td>0</td><td>&quot;PC 17569&quot;</td><td>146.5208</td><td>&quot;B78&quot;</td><td>&quot;C&quot;</td></tr><tr><td>53</td><td>1</td><td>1</td><td>&quot;Harper, Mrs. Henry Sleeper (My…</td><td>&quot;female&quot;</td><td>49.0</td><td>1</td><td>0</td><td>&quot;PC 17572&quot;</td><td>76.7292</td><td>&quot;D33&quot;</td><td>&quot;C&quot;</td></tr><tr><td>&hellip;</td><td>&hellip;</td><td>&hellip;</td><td>&hellip;</td><td>&hellip;</td><td>&hellip;</td><td>&hellip;</td><td>&hellip;</td><td>&hellip;</td><td>&hellip;</td><td>&hellip;</td><td>&hellip;</td></tr><tr><td>857</td><td>1</td><td>1</td><td>&quot;Wick, Mrs. George Dennick (Mar…</td><td>&quot;female&quot;</td><td>45.0</td><td>1</td><td>1</td><td>&quot;36928&quot;</td><td>164.8667</td><td>null</td><td>&quot;S&quot;</td></tr><tr><td>863</td><td>1</td><td>1</td><td>&quot;Swift, Mrs. Frederick Joel (Ma…</td><td>&quot;female&quot;</td><td>48.0</td><td>0</td><td>0</td><td>&quot;17466&quot;</td><td>25.9292</td><td>&quot;D17&quot;</td><td>&quot;S&quot;</td></tr><tr><td>872</td><td>1</td><td>1</td><td>&quot;Beckwith, Mrs. Richard Leonard…</td><td>&quot;female&quot;</td><td>47.0</td><td>1</td><td>1</td><td>&quot;11751&quot;</td><td>52.5542</td><td>&quot;D35&quot;</td><td>&quot;S&quot;</td></tr><tr><td>880</td><td>1</td><td>1</td><td>&quot;Potter, Mrs. Thomas Jr (Lily A…</td><td>&quot;female&quot;</td><td>56.0</td><td>0</td><td>1</td><td>&quot;11767&quot;</td><td>83.1583</td><td>&quot;C50&quot;</td><td>&quot;C&quot;</td></tr><tr><td>888</td><td>1</td><td>1</td><td>&quot;Graham, Miss. Margaret Edith&quot;</td><td>&quot;female&quot;</td><td>19.0</td><td>0</td><td>0</td><td>&quot;112053&quot;</td><td>30.0</td><td>&quot;B42&quot;</td><td>&quot;S&quot;</td></tr></tbody></table></div>"
      ],
      "text/plain": [
       "shape: (91, 12)\n",
       "┌─────────────┬──────────┬────────┬───────────────────┬───┬──────────┬──────────┬───────┬──────────┐\n",
       "│ PassengerId ┆ Survived ┆ Pclass ┆ Name              ┆ … ┆ Ticket   ┆ Fare     ┆ Cabin ┆ Embarked │\n",
       "│ ---         ┆ ---      ┆ ---    ┆ ---               ┆   ┆ ---      ┆ ---      ┆ ---   ┆ ---      │\n",
       "│ i64         ┆ i64      ┆ i64    ┆ str               ┆   ┆ str      ┆ f64      ┆ str   ┆ str      │\n",
       "╞═════════════╪══════════╪════════╪═══════════════════╪═══╪══════════╪══════════╪═══════╪══════════╡\n",
       "│ 2           ┆ 1        ┆ 1      ┆ Cumings, Mrs.     ┆ … ┆ PC 17599 ┆ 71.2833  ┆ C85   ┆ C        │\n",
       "│             ┆          ┆        ┆ John Bradley (Fl… ┆   ┆          ┆          ┆       ┆          │\n",
       "│ 4           ┆ 1        ┆ 1      ┆ Futrelle, Mrs.    ┆ … ┆ 113803   ┆ 53.1     ┆ C123  ┆ S        │\n",
       "│             ┆          ┆        ┆ Jacques Heath (…  ┆   ┆          ┆          ┆       ┆          │\n",
       "│ 12          ┆ 1        ┆ 1      ┆ Bonnell, Miss.    ┆ … ┆ 113783   ┆ 26.55    ┆ C103  ┆ S        │\n",
       "│             ┆          ┆        ┆ Elizabeth         ┆   ┆          ┆          ┆       ┆          │\n",
       "│ 32          ┆ 1        ┆ 1      ┆ Spencer, Mrs.     ┆ … ┆ PC 17569 ┆ 146.5208 ┆ B78   ┆ C        │\n",
       "│             ┆          ┆        ┆ William Augustus… ┆   ┆          ┆          ┆       ┆          │\n",
       "│ 53          ┆ 1        ┆ 1      ┆ Harper, Mrs.      ┆ … ┆ PC 17572 ┆ 76.7292  ┆ D33   ┆ C        │\n",
       "│             ┆          ┆        ┆ Henry Sleeper     ┆   ┆          ┆          ┆       ┆          │\n",
       "│             ┆          ┆        ┆ (My…              ┆   ┆          ┆          ┆       ┆          │\n",
       "│ …           ┆ …        ┆ …      ┆ …                 ┆ … ┆ …        ┆ …        ┆ …     ┆ …        │\n",
       "│ 857         ┆ 1        ┆ 1      ┆ Wick, Mrs. George ┆ … ┆ 36928    ┆ 164.8667 ┆ null  ┆ S        │\n",
       "│             ┆          ┆        ┆ Dennick (Mar…     ┆   ┆          ┆          ┆       ┆          │\n",
       "│ 863         ┆ 1        ┆ 1      ┆ Swift, Mrs.       ┆ … ┆ 17466    ┆ 25.9292  ┆ D17   ┆ S        │\n",
       "│             ┆          ┆        ┆ Frederick Joel    ┆   ┆          ┆          ┆       ┆          │\n",
       "│             ┆          ┆        ┆ (Ma…              ┆   ┆          ┆          ┆       ┆          │\n",
       "│ 872         ┆ 1        ┆ 1      ┆ Beckwith, Mrs.    ┆ … ┆ 11751    ┆ 52.5542  ┆ D35   ┆ S        │\n",
       "│             ┆          ┆        ┆ Richard Leonard…  ┆   ┆          ┆          ┆       ┆          │\n",
       "│ 880         ┆ 1        ┆ 1      ┆ Potter, Mrs.      ┆ … ┆ 11767    ┆ 83.1583  ┆ C50   ┆ C        │\n",
       "│             ┆          ┆        ┆ Thomas Jr (Lily   ┆   ┆          ┆          ┆       ┆          │\n",
       "│             ┆          ┆        ┆ A…                ┆   ┆          ┆          ┆       ┆          │\n",
       "│ 888         ┆ 1        ┆ 1      ┆ Graham, Miss.     ┆ … ┆ 112053   ┆ 30.0     ┆ B42   ┆ S        │\n",
       "│             ┆          ┆        ┆ Margaret Edith    ┆   ┆          ┆          ┆       ┆          │\n",
       "└─────────────┴──────────┴────────┴───────────────────┴───┴──────────┴──────────┴───────┴──────────┘"
      ]
     },
     "execution_count": 41,
     "metadata": {},
     "output_type": "execute_result"
    }
   ],
   "source": [
    "# Kobiety z klasy 1, które przeżyły\n",
    "\n",
    "# # pandas\n",
    "# df[\n",
    "#     (df['Sex'] == 'female') & \n",
    "#     (df['Pclass'] == 1) & \n",
    "#     (df['Survived'] == 1)\n",
    "# ]  \n",
    "\n",
    "\n",
    "df.filter(\n",
    "    (pl.col('Sex') == 'female') & \n",
    "    (pl.col('Pclass') == 1) & \n",
    "    (pl.col('Survived') == 1)\n",
    ")"
   ]
  },
  {
   "cell_type": "code",
   "execution_count": 42,
   "id": "bbbd8990",
   "metadata": {},
   "outputs": [
    {
     "data": {
      "text/html": [
       "<div><style>\n",
       ".dataframe > thead > tr,\n",
       ".dataframe > tbody > tr {\n",
       "  text-align: right;\n",
       "  white-space: pre-wrap;\n",
       "}\n",
       "</style>\n",
       "<small>shape: (47, 12)</small><table border=\"1\" class=\"dataframe\"><thead><tr><th>PassengerId</th><th>Survived</th><th>Pclass</th><th>Name</th><th>Sex</th><th>Age</th><th>SibSp</th><th>Parch</th><th>Ticket</th><th>Fare</th><th>Cabin</th><th>Embarked</th></tr><tr><td>i64</td><td>i64</td><td>i64</td><td>str</td><td>str</td><td>f64</td><td>i64</td><td>i64</td><td>str</td><td>f64</td><td>str</td><td>str</td></tr></thead><tbody><tr><td>8</td><td>0</td><td>3</td><td>&quot;Palsson, Master. Gosta Leonard&quot;</td><td>&quot;male&quot;</td><td>2.0</td><td>3</td><td>1</td><td>&quot;349909&quot;</td><td>21.075</td><td>null</td><td>&quot;S&quot;</td></tr><tr><td>11</td><td>1</td><td>3</td><td>&quot;Sandstrom, Miss. Marguerite Ru…</td><td>&quot;female&quot;</td><td>4.0</td><td>1</td><td>1</td><td>&quot;PP 9549&quot;</td><td>16.7</td><td>&quot;G6&quot;</td><td>&quot;S&quot;</td></tr><tr><td>17</td><td>0</td><td>3</td><td>&quot;Rice, Master. Eugene&quot;</td><td>&quot;male&quot;</td><td>2.0</td><td>4</td><td>1</td><td>&quot;382652&quot;</td><td>29.125</td><td>null</td><td>&quot;Q&quot;</td></tr><tr><td>25</td><td>0</td><td>3</td><td>&quot;Palsson, Miss. Torborg Danira&quot;</td><td>&quot;female&quot;</td><td>8.0</td><td>3</td><td>1</td><td>&quot;349909&quot;</td><td>21.075</td><td>null</td><td>&quot;S&quot;</td></tr><tr><td>51</td><td>0</td><td>3</td><td>&quot;Panula, Master. Juha Niilo&quot;</td><td>&quot;male&quot;</td><td>7.0</td><td>4</td><td>1</td><td>&quot;3101295&quot;</td><td>39.6875</td><td>null</td><td>&quot;S&quot;</td></tr><tr><td>&hellip;</td><td>&hellip;</td><td>&hellip;</td><td>&hellip;</td><td>&hellip;</td><td>&hellip;</td><td>&hellip;</td><td>&hellip;</td><td>&hellip;</td><td>&hellip;</td><td>&hellip;</td><td>&hellip;</td></tr><tr><td>820</td><td>0</td><td>3</td><td>&quot;Skoog, Master. Karl Thorsten&quot;</td><td>&quot;male&quot;</td><td>10.0</td><td>3</td><td>2</td><td>&quot;347088&quot;</td><td>27.9</td><td>null</td><td>&quot;S&quot;</td></tr><tr><td>825</td><td>0</td><td>3</td><td>&quot;Panula, Master. Urho Abraham&quot;</td><td>&quot;male&quot;</td><td>2.0</td><td>4</td><td>1</td><td>&quot;3101295&quot;</td><td>39.6875</td><td>null</td><td>&quot;S&quot;</td></tr><tr><td>851</td><td>0</td><td>3</td><td>&quot;Andersson, Master. Sigvard Har…</td><td>&quot;male&quot;</td><td>4.0</td><td>4</td><td>2</td><td>&quot;347082&quot;</td><td>31.275</td><td>null</td><td>&quot;S&quot;</td></tr><tr><td>853</td><td>0</td><td>3</td><td>&quot;Boulos, Miss. Nourelain&quot;</td><td>&quot;female&quot;</td><td>9.0</td><td>1</td><td>1</td><td>&quot;2678&quot;</td><td>15.2458</td><td>null</td><td>&quot;C&quot;</td></tr><tr><td>870</td><td>1</td><td>3</td><td>&quot;Johnson, Master. Harold Theodo…</td><td>&quot;male&quot;</td><td>4.0</td><td>1</td><td>1</td><td>&quot;347742&quot;</td><td>11.1333</td><td>null</td><td>&quot;S&quot;</td></tr></tbody></table></div>"
      ],
      "text/plain": [
       "shape: (47, 12)\n",
       "┌─────────────┬──────────┬────────┬─────────────────────┬───┬─────────┬─────────┬───────┬──────────┐\n",
       "│ PassengerId ┆ Survived ┆ Pclass ┆ Name                ┆ … ┆ Ticket  ┆ Fare    ┆ Cabin ┆ Embarked │\n",
       "│ ---         ┆ ---      ┆ ---    ┆ ---                 ┆   ┆ ---     ┆ ---     ┆ ---   ┆ ---      │\n",
       "│ i64         ┆ i64      ┆ i64    ┆ str                 ┆   ┆ str     ┆ f64     ┆ str   ┆ str      │\n",
       "╞═════════════╪══════════╪════════╪═════════════════════╪═══╪═════════╪═════════╪═══════╪══════════╡\n",
       "│ 8           ┆ 0        ┆ 3      ┆ Palsson, Master.    ┆ … ┆ 349909  ┆ 21.075  ┆ null  ┆ S        │\n",
       "│             ┆          ┆        ┆ Gosta Leonard       ┆   ┆         ┆         ┆       ┆          │\n",
       "│ 11          ┆ 1        ┆ 3      ┆ Sandstrom, Miss.    ┆ … ┆ PP 9549 ┆ 16.7    ┆ G6    ┆ S        │\n",
       "│             ┆          ┆        ┆ Marguerite Ru…      ┆   ┆         ┆         ┆       ┆          │\n",
       "│ 17          ┆ 0        ┆ 3      ┆ Rice, Master.       ┆ … ┆ 382652  ┆ 29.125  ┆ null  ┆ Q        │\n",
       "│             ┆          ┆        ┆ Eugene              ┆   ┆         ┆         ┆       ┆          │\n",
       "│ 25          ┆ 0        ┆ 3      ┆ Palsson, Miss.      ┆ … ┆ 349909  ┆ 21.075  ┆ null  ┆ S        │\n",
       "│             ┆          ┆        ┆ Torborg Danira      ┆   ┆         ┆         ┆       ┆          │\n",
       "│ 51          ┆ 0        ┆ 3      ┆ Panula, Master.     ┆ … ┆ 3101295 ┆ 39.6875 ┆ null  ┆ S        │\n",
       "│             ┆          ┆        ┆ Juha Niilo          ┆   ┆         ┆         ┆       ┆          │\n",
       "│ …           ┆ …        ┆ …      ┆ …                   ┆ … ┆ …       ┆ …       ┆ …     ┆ …        │\n",
       "│ 820         ┆ 0        ┆ 3      ┆ Skoog, Master. Karl ┆ … ┆ 347088  ┆ 27.9    ┆ null  ┆ S        │\n",
       "│             ┆          ┆        ┆ Thorsten            ┆   ┆         ┆         ┆       ┆          │\n",
       "│ 825         ┆ 0        ┆ 3      ┆ Panula, Master.     ┆ … ┆ 3101295 ┆ 39.6875 ┆ null  ┆ S        │\n",
       "│             ┆          ┆        ┆ Urho Abraham        ┆   ┆         ┆         ┆       ┆          │\n",
       "│ 851         ┆ 0        ┆ 3      ┆ Andersson, Master.  ┆ … ┆ 347082  ┆ 31.275  ┆ null  ┆ S        │\n",
       "│             ┆          ┆        ┆ Sigvard Har…        ┆   ┆         ┆         ┆       ┆          │\n",
       "│ 853         ┆ 0        ┆ 3      ┆ Boulos, Miss.       ┆ … ┆ 2678    ┆ 15.2458 ┆ null  ┆ C        │\n",
       "│             ┆          ┆        ┆ Nourelain           ┆   ┆         ┆         ┆       ┆          │\n",
       "│ 870         ┆ 1        ┆ 3      ┆ Johnson, Master.    ┆ … ┆ 347742  ┆ 11.1333 ┆ null  ┆ S        │\n",
       "│             ┆          ┆        ┆ Harold Theodo…      ┆   ┆         ┆         ┆       ┆          │\n",
       "└─────────────┴──────────┴────────┴─────────────────────┴───┴─────────┴─────────┴───────┴──────────┘"
      ]
     },
     "execution_count": 42,
     "metadata": {},
     "output_type": "execute_result"
    }
   ],
   "source": [
    "# Dzieci w wieku poniżej 12 lat z klasy 3\n",
    "\n",
    "# # pandas\n",
    "# df[\n",
    "#     (df['Age'] < 12) & \n",
    "#     (df['Pclass'] == 3)\n",
    "# ]\n",
    "\n",
    "df.filter(\n",
    "    (pl.col('Age') < 12) & \n",
    "    (pl.col('Pclass') == 3)\n",
    ")\n"
   ]
  },
  {
   "cell_type": "markdown",
   "id": "7b4a5d9e",
   "metadata": {},
   "source": [
    "# agregacje"
   ]
  },
  {
   "cell_type": "code",
   "execution_count": 43,
   "id": "98b11ad8",
   "metadata": {},
   "outputs": [
    {
     "data": {
      "text/html": [
       "<div><style>\n",
       ".dataframe > thead > tr,\n",
       ".dataframe > tbody > tr {\n",
       "  text-align: right;\n",
       "  white-space: pre-wrap;\n",
       "}\n",
       "</style>\n",
       "<small>shape: (3, 2)</small><table border=\"1\" class=\"dataframe\"><thead><tr><th>Pclass</th><th>Age</th></tr><tr><td>i64</td><td>f64</td></tr></thead><tbody><tr><td>3</td><td>25.14062</td></tr><tr><td>2</td><td>29.87763</td></tr><tr><td>1</td><td>38.233441</td></tr></tbody></table></div>"
      ],
      "text/plain": [
       "shape: (3, 2)\n",
       "┌────────┬───────────┐\n",
       "│ Pclass ┆ Age       │\n",
       "│ ---    ┆ ---       │\n",
       "│ i64    ┆ f64       │\n",
       "╞════════╪═══════════╡\n",
       "│ 3      ┆ 25.14062  │\n",
       "│ 2      ┆ 29.87763  │\n",
       "│ 1      ┆ 38.233441 │\n",
       "└────────┴───────────┘"
      ]
     },
     "execution_count": 43,
     "metadata": {},
     "output_type": "execute_result"
    }
   ],
   "source": [
    "# Średni wiek pasażerów wg klasy\n",
    "# # pandas\n",
    "# df.groupby('Pclass')['Age'].mean()\n",
    "\n",
    "df.group_by('Pclass').agg(pl.col('Age').mean())"
   ]
  },
  {
   "cell_type": "code",
   "execution_count": 44,
   "id": "bee54990",
   "metadata": {},
   "outputs": [
    {
     "data": {
      "text/html": [
       "<div><style>\n",
       ".dataframe > thead > tr,\n",
       ".dataframe > tbody > tr {\n",
       "  text-align: right;\n",
       "  white-space: pre-wrap;\n",
       "}\n",
       "</style>\n",
       "<small>shape: (6, 3)</small><table border=\"1\" class=\"dataframe\"><thead><tr><th>Pclass</th><th>Sex</th><th>PassengerId</th></tr><tr><td>i64</td><td>str</td><td>u32</td></tr></thead><tbody><tr><td>1</td><td>&quot;female&quot;</td><td>94</td></tr><tr><td>3</td><td>&quot;female&quot;</td><td>144</td></tr><tr><td>2</td><td>&quot;male&quot;</td><td>108</td></tr><tr><td>2</td><td>&quot;female&quot;</td><td>76</td></tr><tr><td>3</td><td>&quot;male&quot;</td><td>347</td></tr><tr><td>1</td><td>&quot;male&quot;</td><td>122</td></tr></tbody></table></div>"
      ],
      "text/plain": [
       "shape: (6, 3)\n",
       "┌────────┬────────┬─────────────┐\n",
       "│ Pclass ┆ Sex    ┆ PassengerId │\n",
       "│ ---    ┆ ---    ┆ ---         │\n",
       "│ i64    ┆ str    ┆ u32         │\n",
       "╞════════╪════════╪═════════════╡\n",
       "│ 1      ┆ female ┆ 94          │\n",
       "│ 3      ┆ female ┆ 144         │\n",
       "│ 2      ┆ male   ┆ 108         │\n",
       "│ 2      ┆ female ┆ 76          │\n",
       "│ 3      ┆ male   ┆ 347         │\n",
       "│ 1      ┆ male   ┆ 122         │\n",
       "└────────┴────────┴─────────────┘"
      ]
     },
     "execution_count": 44,
     "metadata": {},
     "output_type": "execute_result"
    }
   ],
   "source": [
    "# Liczba pasażerów wg klasy i płci\n",
    "# pandas\n",
    "# df.groupby(['Pclass', 'Sex'])['PassengerId'].count()\n",
    "\n",
    "df.group_by(['Pclass', 'Sex']).agg(pl.col('PassengerId').count())"
   ]
  },
  {
   "cell_type": "code",
   "execution_count": 45,
   "id": "4f552dba",
   "metadata": {},
   "outputs": [
    {
     "data": {
      "text/plain": [
       "Pclass  Sex   \n",
       "1       female     94\n",
       "        male      122\n",
       "2       female     76\n",
       "        male      108\n",
       "3       female    144\n",
       "        male      347\n",
       "Name: PassengerId, dtype: uint32"
      ]
     },
     "execution_count": 45,
     "metadata": {},
     "output_type": "execute_result"
    }
   ],
   "source": [
    "(\n",
    "    df\n",
    "    .group_by(['Pclass', 'Sex'])\n",
    "    .agg(\n",
    "        pl.col('PassengerId').count()\n",
    "    )\n",
    "    .sort([\n",
    "        'Pclass',\n",
    "        'Sex'\n",
    "    ])\n",
    "    .to_pandas()\n",
    "    .set_index([\n",
    "        'Pclass',\n",
    "        'Sex'\n",
    "    ])\n",
    "    ['PassengerId']\n",
    ")"
   ]
  },
  {
   "cell_type": "code",
   "execution_count": 46,
   "id": "c11e4c47",
   "metadata": {},
   "outputs": [
    {
     "data": {
      "text/html": [
       "<div><style>\n",
       ".dataframe > thead > tr,\n",
       ".dataframe > tbody > tr {\n",
       "  text-align: right;\n",
       "  white-space: pre-wrap;\n",
       "}\n",
       "</style>\n",
       "<small>shape: (4, 2)</small><table border=\"1\" class=\"dataframe\"><thead><tr><th>Embarked</th><th>Port_Name</th></tr><tr><td>str</td><td>str</td></tr></thead><tbody><tr><td>&quot;Q&quot;</td><td>&quot;Queenstown&quot;</td></tr><tr><td>null</td><td>null</td></tr><tr><td>&quot;S&quot;</td><td>&quot;Southampton&quot;</td></tr><tr><td>&quot;C&quot;</td><td>&quot;Cherbourg&quot;</td></tr></tbody></table></div>"
      ],
      "text/plain": [
       "shape: (4, 2)\n",
       "┌──────────┬─────────────┐\n",
       "│ Embarked ┆ Port_Name   │\n",
       "│ ---      ┆ ---         │\n",
       "│ str      ┆ str         │\n",
       "╞══════════╪═════════════╡\n",
       "│ Q        ┆ Queenstown  │\n",
       "│ null     ┆ null        │\n",
       "│ S        ┆ Southampton │\n",
       "│ C        ┆ Cherbourg   │\n",
       "└──────────┴─────────────┘"
      ]
     },
     "execution_count": 46,
     "metadata": {},
     "output_type": "execute_result"
    }
   ],
   "source": [
    "# Dodanie nazw portów\n",
    "\n",
    "# pandas\n",
    "# ports = pd.DataFrame({\n",
    "#     'Embarked': ['C', 'Q', 'S'],\n",
    "#     'Port_Name': ['Cherbourg', 'Queenstown', 'Southampton']\n",
    "# })\n",
    "\n",
    "ports = pl.DataFrame({\n",
    "    'Embarked': ['C', 'Q', 'S'],\n",
    "    'Port_Name': ['Cherbourg', 'Queenstown', 'Southampton']\n",
    "})\n",
    "\n",
    "# pandas\n",
    "# df_merged = df.merge(ports, on='Embarked', how='left')\n",
    "df_merged = df.join(ports, on='Embarked', how='left')\n",
    "\n",
    "# pandas\n",
    "# df_merged[['Embarked', 'Port_Name']].drop_duplicates()\n",
    "\n",
    "df_merged[['Embarked', 'Port_Name']].unique()"
   ]
  },
  {
   "cell_type": "code",
   "execution_count": 47,
   "id": "bef93e86",
   "metadata": {},
   "outputs": [
    {
     "data": {
      "text/html": [
       "<div><style>\n",
       ".dataframe > thead > tr,\n",
       ".dataframe > tbody > tr {\n",
       "  text-align: right;\n",
       "  white-space: pre-wrap;\n",
       "}\n",
       "</style>\n",
       "<small>shape: (4, 2)</small><table border=\"1\" class=\"dataframe\"><thead><tr><th>Port_Name</th><th>count</th></tr><tr><td>str</td><td>u32</td></tr></thead><tbody><tr><td>&quot;Queenstown&quot;</td><td>77</td></tr><tr><td>&quot;Cherbourg&quot;</td><td>168</td></tr><tr><td>null</td><td>2</td></tr><tr><td>&quot;Southampton&quot;</td><td>644</td></tr></tbody></table></div>"
      ],
      "text/plain": [
       "shape: (4, 2)\n",
       "┌─────────────┬───────┐\n",
       "│ Port_Name   ┆ count │\n",
       "│ ---         ┆ ---   │\n",
       "│ str         ┆ u32   │\n",
       "╞═════════════╪═══════╡\n",
       "│ Queenstown  ┆ 77    │\n",
       "│ Cherbourg   ┆ 168   │\n",
       "│ null        ┆ 2     │\n",
       "│ Southampton ┆ 644   │\n",
       "└─────────────┴───────┘"
      ]
     },
     "execution_count": 47,
     "metadata": {},
     "output_type": "execute_result"
    }
   ],
   "source": [
    "# Liczba pasażerów wg portu\n",
    "df_merged['Port_Name'].value_counts()"
   ]
  },
  {
   "cell_type": "markdown",
   "id": "e424a062",
   "metadata": {},
   "source": [
    "## 📊 Wizualizacja: Przeżywalność według klasy i płci"
   ]
  },
  {
   "cell_type": "code",
   "execution_count": 48,
   "id": "13feae24",
   "metadata": {},
   "outputs": [
    {
     "data": {
      "image/png": "[encoded data removed]",
      "text/plain": [
       "<Figure size 800x500 with 1 Axes>"
      ]
     },
     "metadata": {},
     "output_type": "display_data"
    }
   ],
   "source": [
    "import seaborn as sns\n",
    "import matplotlib.pyplot as plt\n",
    "\n",
    "# Wykres słupkowy: przeżywalność wg klasy i płci\n",
    "plt.figure(figsize=(8, 5))\n",
    "sns.barplot(data=df, x='Pclass', y='Survived', hue='Sex')\n",
    "plt.title('Przeżywalność według klasy i płci')\n",
    "plt.ylabel('Prawdopodobieństwo przeżycia')\n",
    "plt.xlabel('Klasa')\n",
    "plt.tight_layout()\n",
    "plt.show()"
   ]
  },
  {
   "cell_type": "code",
   "execution_count": null,
   "id": "f8891a75",
   "metadata": {},
   "outputs": [],
   "source": [
    "# a po co to wrzystko?"
   ]
  }
 ],
 "metadata": {
  "kernelspec": {
   "display_name": ".venv",
   "language": "python",
   "name": "python3"
  },
  "language_info": {
   "codemirror_mode": {
    "name": "ipython",
    "version": 3
   },
   "file_extension": ".py",
   "mimetype": "text/x-python",
   "name": "python",
   "nbconvert_exporter": "python",
   "pygments_lexer": "ipython3",
   "version": "3.12.10"
  }
 },
 "nbformat": 4,
 "nbformat_minor": 5
}
